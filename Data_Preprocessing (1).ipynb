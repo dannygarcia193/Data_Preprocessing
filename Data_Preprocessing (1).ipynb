{
 "cells": [
  {
   "cell_type": "markdown",
   "metadata": {},
   "source": [
    "<h1 style=\"text-align:center\">Analyzing Borrower’s Risk of Defaulting on a Loan</h1>"
   ]
  },
  {
   "cell_type": "markdown",
   "metadata": {},
   "source": [
    "## Introduction\n",
    "The goal of this project is to prepare a report for a bank’s loan division. Of special consideration, customer’s marital status and number of children will be taken into account to determine whether they will default on a loan. This report will be considered when building a <b>credit scoring</b> of a potential customer. A <b>credit scoring</b> is used to evaluate the ability of a potential borrower to repay their loan.\n",
    "\n",
    "\n",
    "## Key Takeaways:\n",
    "1. Individuals taking out loan for real estate purposes on average tend to pay their loan in a timely manner in comparison to those taking out their loans for wedding, car purchasing, and education reasons. \n",
    "2. In addition, widowers are more likely than any other type of marital status group (married, unmarried, divorced, civil partnership) to pay back their loans on time. \n",
    "3. Moreover, individuals who identified as being unmarried or in a civil partnership had a higher likelihood of repaying their loan on time in comparison to the other marital status. \n",
    "4. Lastly, individuals in the middle income class payed off their loans at a higher rate in comparison to the other income classes (high, highest, and low). \n",
    "\n",
    "Special consideration should be given to the aforementioned variables."
   ]
  },
  {
   "cell_type": "markdown",
   "metadata": {},
   "source": [
    "## Dataset Used\n",
    "\n",
    "The bank already has some data on customers’ credit worthiness. The following are the column descriptions from the dataset used:\n",
    "- children : the number of children in the family\n",
    "- days_employed: how long the customer has worked\n",
    "- dob_years: the customer’s age\n",
    "- education: the customer’s education level\n",
    "- education_id: identifier for the customer’s education\n",
    "- family_status: the customer’s marital status\n",
    "- family_status_id: identifier for the customer’s marital status\n",
    "- gender: the customer’s gender\n",
    "- income_type: the customer’s income type\n",
    "- debt: whether the client has ever defaulted on a loan\n",
    "- total_income: annual income\n",
    "\n",
    "The dataset can be found by clicking <a href=\"https://code.s3.yandex.net/datasets/credit_scoring_eng.csv\">here</a>.\n",
    "\n",
    "### Note: This hypothetical project is part of Praticum by Yandex's Data Analyst Program."
   ]
  },
  {
   "cell_type": "markdown",
   "metadata": {},
   "source": [
    "### General Information"
   ]
  },
  {
   "cell_type": "markdown",
   "metadata": {},
   "source": [
    "Let's start by importing the libraries that we will be using"
   ]
  },
  {
   "cell_type": "code",
   "execution_count": 1,
   "metadata": {},
   "outputs": [
    {
     "name": "stderr",
     "output_type": "stream",
     "text": [
      "[nltk_data] Downloading package averaged_perceptron_tagger to\n",
      "[nltk_data]     C:\\Users\\garci\\AppData\\Roaming\\nltk_data...\n",
      "[nltk_data]   Package averaged_perceptron_tagger is already up-to-\n",
      "[nltk_data]       date!\n",
      "[nltk_data] Downloading package punkt to\n",
      "[nltk_data]     C:\\Users\\garci\\AppData\\Roaming\\nltk_data...\n",
      "[nltk_data]   Package punkt is already up-to-date!\n",
      "[nltk_data] Downloading package wordnet to\n",
      "[nltk_data]     C:\\Users\\garci\\AppData\\Roaming\\nltk_data...\n",
      "[nltk_data]   Package wordnet is already up-to-date!\n"
     ]
    },
    {
     "data": {
      "text/plain": [
       "True"
      ]
     },
     "execution_count": 1,
     "metadata": {},
     "output_type": "execute_result"
    }
   ],
   "source": [
    "import pandas as pd #data manipulation\n",
    "import numpy as np #data manipulation\n",
    "\n",
    "#for lemmatization\n",
    "import nltk \n",
    "from nltk.stem import WordNetLemmatizer\n",
    "from nltk.tag import pos_tag #noun extraction\n",
    "nltk.download('averaged_perceptron_tagger')\n",
    "nltk.download('punkt')\n",
    "nltk.download('wordnet')"
   ]
  },
  {
   "cell_type": "markdown",
   "metadata": {},
   "source": [
    "Now, let's read in our data from credit_scoring dataset."
   ]
  },
  {
   "cell_type": "code",
   "execution_count": 2,
   "metadata": {},
   "outputs": [
    {
     "name": "stdout",
     "output_type": "stream",
     "text": [
      "Dataframe loaded!\n"
     ]
    }
   ],
   "source": [
    "credit_scores = pd.read_csv(r\"C:\\Users\\garci\\Downloads\\credit_scoring_eng.csv\")\n",
    "print('Dataframe loaded!')"
   ]
  },
  {
   "cell_type": "markdown",
   "metadata": {},
   "source": [
    "Let's view the first five columns to get a rough estimate of our data"
   ]
  },
  {
   "cell_type": "code",
   "execution_count": 3,
   "metadata": {},
   "outputs": [
    {
     "data": {
      "text/html": [
       "<div>\n",
       "<style scoped>\n",
       "    .dataframe tbody tr th:only-of-type {\n",
       "        vertical-align: middle;\n",
       "    }\n",
       "\n",
       "    .dataframe tbody tr th {\n",
       "        vertical-align: top;\n",
       "    }\n",
       "\n",
       "    .dataframe thead th {\n",
       "        text-align: right;\n",
       "    }\n",
       "</style>\n",
       "<table border=\"1\" class=\"dataframe\">\n",
       "  <thead>\n",
       "    <tr style=\"text-align: right;\">\n",
       "      <th></th>\n",
       "      <th>children</th>\n",
       "      <th>days_employed</th>\n",
       "      <th>dob_years</th>\n",
       "      <th>education</th>\n",
       "      <th>education_id</th>\n",
       "      <th>family_status</th>\n",
       "      <th>family_status_id</th>\n",
       "      <th>gender</th>\n",
       "      <th>income_type</th>\n",
       "      <th>debt</th>\n",
       "      <th>total_income</th>\n",
       "      <th>purpose</th>\n",
       "    </tr>\n",
       "  </thead>\n",
       "  <tbody>\n",
       "    <tr>\n",
       "      <th>0</th>\n",
       "      <td>1</td>\n",
       "      <td>-8437.673028</td>\n",
       "      <td>42</td>\n",
       "      <td>bachelor's degree</td>\n",
       "      <td>0</td>\n",
       "      <td>married</td>\n",
       "      <td>0</td>\n",
       "      <td>F</td>\n",
       "      <td>employee</td>\n",
       "      <td>0</td>\n",
       "      <td>40620.102</td>\n",
       "      <td>purchase of the house</td>\n",
       "    </tr>\n",
       "    <tr>\n",
       "      <th>1</th>\n",
       "      <td>1</td>\n",
       "      <td>-4024.803754</td>\n",
       "      <td>36</td>\n",
       "      <td>secondary education</td>\n",
       "      <td>1</td>\n",
       "      <td>married</td>\n",
       "      <td>0</td>\n",
       "      <td>F</td>\n",
       "      <td>employee</td>\n",
       "      <td>0</td>\n",
       "      <td>17932.802</td>\n",
       "      <td>car purchase</td>\n",
       "    </tr>\n",
       "    <tr>\n",
       "      <th>2</th>\n",
       "      <td>0</td>\n",
       "      <td>-5623.422610</td>\n",
       "      <td>33</td>\n",
       "      <td>Secondary Education</td>\n",
       "      <td>1</td>\n",
       "      <td>married</td>\n",
       "      <td>0</td>\n",
       "      <td>M</td>\n",
       "      <td>employee</td>\n",
       "      <td>0</td>\n",
       "      <td>23341.752</td>\n",
       "      <td>purchase of the house</td>\n",
       "    </tr>\n",
       "    <tr>\n",
       "      <th>3</th>\n",
       "      <td>3</td>\n",
       "      <td>-4124.747207</td>\n",
       "      <td>32</td>\n",
       "      <td>secondary education</td>\n",
       "      <td>1</td>\n",
       "      <td>married</td>\n",
       "      <td>0</td>\n",
       "      <td>M</td>\n",
       "      <td>employee</td>\n",
       "      <td>0</td>\n",
       "      <td>42820.568</td>\n",
       "      <td>supplementary education</td>\n",
       "    </tr>\n",
       "    <tr>\n",
       "      <th>4</th>\n",
       "      <td>0</td>\n",
       "      <td>340266.072047</td>\n",
       "      <td>53</td>\n",
       "      <td>secondary education</td>\n",
       "      <td>1</td>\n",
       "      <td>civil partnership</td>\n",
       "      <td>1</td>\n",
       "      <td>F</td>\n",
       "      <td>retiree</td>\n",
       "      <td>0</td>\n",
       "      <td>25378.572</td>\n",
       "      <td>to have a wedding</td>\n",
       "    </tr>\n",
       "  </tbody>\n",
       "</table>\n",
       "</div>"
      ],
      "text/plain": [
       "   children  days_employed  dob_years            education  education_id  \\\n",
       "0         1   -8437.673028         42    bachelor's degree             0   \n",
       "1         1   -4024.803754         36  secondary education             1   \n",
       "2         0   -5623.422610         33  Secondary Education             1   \n",
       "3         3   -4124.747207         32  secondary education             1   \n",
       "4         0  340266.072047         53  secondary education             1   \n",
       "\n",
       "       family_status  family_status_id gender income_type  debt  total_income  \\\n",
       "0            married                 0      F    employee     0     40620.102   \n",
       "1            married                 0      F    employee     0     17932.802   \n",
       "2            married                 0      M    employee     0     23341.752   \n",
       "3            married                 0      M    employee     0     42820.568   \n",
       "4  civil partnership                 1      F     retiree     0     25378.572   \n",
       "\n",
       "                   purpose  \n",
       "0    purchase of the house  \n",
       "1             car purchase  \n",
       "2    purchase of the house  \n",
       "3  supplementary education  \n",
       "4        to have a wedding  "
      ]
     },
     "execution_count": 3,
     "metadata": {},
     "output_type": "execute_result"
    }
   ],
   "source": [
    "credit_scores.head()"
   ]
  },
  {
   "cell_type": "markdown",
   "metadata": {},
   "source": [
    "A quick look through the daaframe's first 5 rows show some values that need to be cleaned--days_employed negative values and education values. In addition, the education and family_status column seem to convey the same information as their respective id columns.Looks like we'll need to work on cleaning these data before we do any statistical analyses."
   ]
  },
  {
   "cell_type": "markdown",
   "metadata": {},
   "source": [
    "Let's call the <b>.info()</b> function to get a quick overview of the data types and missing values in the dataframe."
   ]
  },
  {
   "cell_type": "code",
   "execution_count": 4,
   "metadata": {},
   "outputs": [
    {
     "name": "stdout",
     "output_type": "stream",
     "text": [
      "<class 'pandas.core.frame.DataFrame'>\n",
      "RangeIndex: 21525 entries, 0 to 21524\n",
      "Data columns (total 12 columns):\n",
      " #   Column            Non-Null Count  Dtype  \n",
      "---  ------            --------------  -----  \n",
      " 0   children          21525 non-null  int64  \n",
      " 1   days_employed     19351 non-null  float64\n",
      " 2   dob_years         21525 non-null  int64  \n",
      " 3   education         21525 non-null  object \n",
      " 4   education_id      21525 non-null  int64  \n",
      " 5   family_status     21525 non-null  object \n",
      " 6   family_status_id  21525 non-null  int64  \n",
      " 7   gender            21525 non-null  object \n",
      " 8   income_type       21525 non-null  object \n",
      " 9   debt              21525 non-null  int64  \n",
      " 10  total_income      19351 non-null  float64\n",
      " 11  purpose           21525 non-null  object \n",
      "dtypes: float64(2), int64(5), object(5)\n",
      "memory usage: 2.0+ MB\n"
     ]
    }
   ],
   "source": [
    "credit_scores.info()"
   ]
  },
  {
   "cell_type": "markdown",
   "metadata": {},
   "source": [
    "Notice that the data types for days_employed will need to be converted to integer as it's more logical for them to be in such format. \n",
    "\n",
    "Also notice how the days_employed and total_income columns have a lower total entry count then the total entries for the dataframe. This means that the columns contain null values. Let's calculate the percentage of missing values to assess the potential impact that it might have on our analyses."
   ]
  },
  {
   "cell_type": "code",
   "execution_count": 5,
   "metadata": {},
   "outputs": [
    {
     "name": "stdout",
     "output_type": "stream",
     "text": [
      "10.0 %\n"
     ]
    }
   ],
   "source": [
    "# divide the amount of null values by the total amount of rows to retrieve the percentage of missing values\n",
    "missing_percentage = round(\n",
    "    len(credit_scores[credit_scores['days_employed'].isnull()]) /\n",
    "    len(credit_scores), 2) * 100\n",
    "print(missing_percentage, '%')"
   ]
  },
  {
   "cell_type": "markdown",
   "metadata": {},
   "source": [
    "Hmmm. That's a pretty good chunk. Clearly, we need to further explore why this relatively large percentage of missing values are present in our dataframe"
   ]
  },
  {
   "cell_type": "markdown",
   "metadata": {},
   "source": [
    "### Conclusion"
   ]
  },
  {
   "cell_type": "markdown",
   "metadata": {},
   "source": [
    "A quick look through our dataframe shows that there are null, negative, data type, and columns that need to be cleaned. Before we start cleaning our dataset though, it's best if we follow a step process on approaching this. In an attempt to preproess our data to the best of our abilities, the following are the steps that we will take to accomplish this: (1) Find and replace missing values (2) Find and drop duplicate rows (3) Convert data type into their logical form (4) Lemmatize our purpose column to retrieve relevant words (5) Categorize data correctly and then drop columns that convey same information "
   ]
  },
  {
   "cell_type": "markdown",
   "metadata": {},
   "source": [
    "### Processing missing values\n"
   ]
  },
  {
   "cell_type": "markdown",
   "metadata": {},
   "source": [
    "Missing values are identified in various ways. During our intital overview of our data we saw that around 10% of the rows contained a missing days_employed and total_income values. This is a problem. So let's first start by assessing our days_employed column to see if we can identify a reason for this. We'll do this by calling the .describe() function on the days_employed column in order to get a basic statiscal overview of it. In addition, we'll pass the 'all' argument to our include parameter to also include categorical values in the report."
   ]
  },
  {
   "cell_type": "code",
   "execution_count": 6,
   "metadata": {},
   "outputs": [
    {
     "data": {
      "text/html": [
       "<div>\n",
       "<style scoped>\n",
       "    .dataframe tbody tr th:only-of-type {\n",
       "        vertical-align: middle;\n",
       "    }\n",
       "\n",
       "    .dataframe tbody tr th {\n",
       "        vertical-align: top;\n",
       "    }\n",
       "\n",
       "    .dataframe thead th {\n",
       "        text-align: right;\n",
       "    }\n",
       "</style>\n",
       "<table border=\"1\" class=\"dataframe\">\n",
       "  <thead>\n",
       "    <tr style=\"text-align: right;\">\n",
       "      <th></th>\n",
       "      <th>children</th>\n",
       "      <th>days_employed</th>\n",
       "      <th>dob_years</th>\n",
       "      <th>education</th>\n",
       "      <th>education_id</th>\n",
       "      <th>family_status</th>\n",
       "      <th>family_status_id</th>\n",
       "      <th>gender</th>\n",
       "      <th>income_type</th>\n",
       "      <th>debt</th>\n",
       "      <th>total_income</th>\n",
       "      <th>purpose</th>\n",
       "    </tr>\n",
       "  </thead>\n",
       "  <tbody>\n",
       "    <tr>\n",
       "      <th>count</th>\n",
       "      <td>2174.000000</td>\n",
       "      <td>0.0</td>\n",
       "      <td>2174.000000</td>\n",
       "      <td>2174</td>\n",
       "      <td>2174.000000</td>\n",
       "      <td>2174</td>\n",
       "      <td>2174.000000</td>\n",
       "      <td>2174</td>\n",
       "      <td>2174</td>\n",
       "      <td>2174.000000</td>\n",
       "      <td>0.0</td>\n",
       "      <td>2174</td>\n",
       "    </tr>\n",
       "    <tr>\n",
       "      <th>unique</th>\n",
       "      <td>NaN</td>\n",
       "      <td>NaN</td>\n",
       "      <td>NaN</td>\n",
       "      <td>12</td>\n",
       "      <td>NaN</td>\n",
       "      <td>5</td>\n",
       "      <td>NaN</td>\n",
       "      <td>2</td>\n",
       "      <td>5</td>\n",
       "      <td>NaN</td>\n",
       "      <td>NaN</td>\n",
       "      <td>38</td>\n",
       "    </tr>\n",
       "    <tr>\n",
       "      <th>top</th>\n",
       "      <td>NaN</td>\n",
       "      <td>NaN</td>\n",
       "      <td>NaN</td>\n",
       "      <td>secondary education</td>\n",
       "      <td>NaN</td>\n",
       "      <td>married</td>\n",
       "      <td>NaN</td>\n",
       "      <td>F</td>\n",
       "      <td>employee</td>\n",
       "      <td>NaN</td>\n",
       "      <td>NaN</td>\n",
       "      <td>having a wedding</td>\n",
       "    </tr>\n",
       "    <tr>\n",
       "      <th>freq</th>\n",
       "      <td>NaN</td>\n",
       "      <td>NaN</td>\n",
       "      <td>NaN</td>\n",
       "      <td>1408</td>\n",
       "      <td>NaN</td>\n",
       "      <td>1237</td>\n",
       "      <td>NaN</td>\n",
       "      <td>1484</td>\n",
       "      <td>1105</td>\n",
       "      <td>NaN</td>\n",
       "      <td>NaN</td>\n",
       "      <td>92</td>\n",
       "    </tr>\n",
       "    <tr>\n",
       "      <th>mean</th>\n",
       "      <td>0.552438</td>\n",
       "      <td>NaN</td>\n",
       "      <td>43.632015</td>\n",
       "      <td>NaN</td>\n",
       "      <td>0.800828</td>\n",
       "      <td>NaN</td>\n",
       "      <td>0.975161</td>\n",
       "      <td>NaN</td>\n",
       "      <td>NaN</td>\n",
       "      <td>0.078197</td>\n",
       "      <td>NaN</td>\n",
       "      <td>NaN</td>\n",
       "    </tr>\n",
       "    <tr>\n",
       "      <th>std</th>\n",
       "      <td>1.469356</td>\n",
       "      <td>NaN</td>\n",
       "      <td>12.531481</td>\n",
       "      <td>NaN</td>\n",
       "      <td>0.530157</td>\n",
       "      <td>NaN</td>\n",
       "      <td>1.418220</td>\n",
       "      <td>NaN</td>\n",
       "      <td>NaN</td>\n",
       "      <td>0.268543</td>\n",
       "      <td>NaN</td>\n",
       "      <td>NaN</td>\n",
       "    </tr>\n",
       "    <tr>\n",
       "      <th>min</th>\n",
       "      <td>-1.000000</td>\n",
       "      <td>NaN</td>\n",
       "      <td>0.000000</td>\n",
       "      <td>NaN</td>\n",
       "      <td>0.000000</td>\n",
       "      <td>NaN</td>\n",
       "      <td>0.000000</td>\n",
       "      <td>NaN</td>\n",
       "      <td>NaN</td>\n",
       "      <td>0.000000</td>\n",
       "      <td>NaN</td>\n",
       "      <td>NaN</td>\n",
       "    </tr>\n",
       "    <tr>\n",
       "      <th>25%</th>\n",
       "      <td>0.000000</td>\n",
       "      <td>NaN</td>\n",
       "      <td>34.000000</td>\n",
       "      <td>NaN</td>\n",
       "      <td>0.250000</td>\n",
       "      <td>NaN</td>\n",
       "      <td>0.000000</td>\n",
       "      <td>NaN</td>\n",
       "      <td>NaN</td>\n",
       "      <td>0.000000</td>\n",
       "      <td>NaN</td>\n",
       "      <td>NaN</td>\n",
       "    </tr>\n",
       "    <tr>\n",
       "      <th>50%</th>\n",
       "      <td>0.000000</td>\n",
       "      <td>NaN</td>\n",
       "      <td>43.000000</td>\n",
       "      <td>NaN</td>\n",
       "      <td>1.000000</td>\n",
       "      <td>NaN</td>\n",
       "      <td>0.000000</td>\n",
       "      <td>NaN</td>\n",
       "      <td>NaN</td>\n",
       "      <td>0.000000</td>\n",
       "      <td>NaN</td>\n",
       "      <td>NaN</td>\n",
       "    </tr>\n",
       "    <tr>\n",
       "      <th>75%</th>\n",
       "      <td>1.000000</td>\n",
       "      <td>NaN</td>\n",
       "      <td>54.000000</td>\n",
       "      <td>NaN</td>\n",
       "      <td>1.000000</td>\n",
       "      <td>NaN</td>\n",
       "      <td>1.000000</td>\n",
       "      <td>NaN</td>\n",
       "      <td>NaN</td>\n",
       "      <td>0.000000</td>\n",
       "      <td>NaN</td>\n",
       "      <td>NaN</td>\n",
       "    </tr>\n",
       "    <tr>\n",
       "      <th>max</th>\n",
       "      <td>20.000000</td>\n",
       "      <td>NaN</td>\n",
       "      <td>73.000000</td>\n",
       "      <td>NaN</td>\n",
       "      <td>3.000000</td>\n",
       "      <td>NaN</td>\n",
       "      <td>4.000000</td>\n",
       "      <td>NaN</td>\n",
       "      <td>NaN</td>\n",
       "      <td>1.000000</td>\n",
       "      <td>NaN</td>\n",
       "      <td>NaN</td>\n",
       "    </tr>\n",
       "  </tbody>\n",
       "</table>\n",
       "</div>"
      ],
      "text/plain": [
       "           children  days_employed    dob_years            education  \\\n",
       "count   2174.000000            0.0  2174.000000                 2174   \n",
       "unique          NaN            NaN          NaN                   12   \n",
       "top             NaN            NaN          NaN  secondary education   \n",
       "freq            NaN            NaN          NaN                 1408   \n",
       "mean       0.552438            NaN    43.632015                  NaN   \n",
       "std        1.469356            NaN    12.531481                  NaN   \n",
       "min       -1.000000            NaN     0.000000                  NaN   \n",
       "25%        0.000000            NaN    34.000000                  NaN   \n",
       "50%        0.000000            NaN    43.000000                  NaN   \n",
       "75%        1.000000            NaN    54.000000                  NaN   \n",
       "max       20.000000            NaN    73.000000                  NaN   \n",
       "\n",
       "        education_id family_status  family_status_id gender income_type  \\\n",
       "count    2174.000000          2174       2174.000000   2174        2174   \n",
       "unique           NaN             5               NaN      2           5   \n",
       "top              NaN       married               NaN      F    employee   \n",
       "freq             NaN          1237               NaN   1484        1105   \n",
       "mean        0.800828           NaN          0.975161    NaN         NaN   \n",
       "std         0.530157           NaN          1.418220    NaN         NaN   \n",
       "min         0.000000           NaN          0.000000    NaN         NaN   \n",
       "25%         0.250000           NaN          0.000000    NaN         NaN   \n",
       "50%         1.000000           NaN          0.000000    NaN         NaN   \n",
       "75%         1.000000           NaN          1.000000    NaN         NaN   \n",
       "max         3.000000           NaN          4.000000    NaN         NaN   \n",
       "\n",
       "               debt  total_income           purpose  \n",
       "count   2174.000000           0.0              2174  \n",
       "unique          NaN           NaN                38  \n",
       "top             NaN           NaN  having a wedding  \n",
       "freq            NaN           NaN                92  \n",
       "mean       0.078197           NaN               NaN  \n",
       "std        0.268543           NaN               NaN  \n",
       "min        0.000000           NaN               NaN  \n",
       "25%        0.000000           NaN               NaN  \n",
       "50%        0.000000           NaN               NaN  \n",
       "75%        0.000000           NaN               NaN  \n",
       "max        1.000000           NaN               NaN  "
      ]
     },
     "execution_count": 6,
     "metadata": {},
     "output_type": "execute_result"
    }
   ],
   "source": [
    "credit_scores[credit_scores['days_employed'].isnull()].describe(include='all')"
   ]
  },
  {
   "cell_type": "markdown",
   "metadata": {},
   "source": [
    "> We can see that people who didn't report the number of days they were employed are predominately on average: middle-aged, female, married, have up to a high school education, in debt, and are employed. Interestingly enough, we can also observe that the total income value from the report has null values. With no data to report from the .describe() function as well as identical number of missing values amongst the days_employed and total_income column, it's logical to conclude that their null values match exactly. Therefore, these are the only rows that we need to focus on (in terms of null values that is). However, with the aforementioned information, it's hard to come to a concrete conclusion as most individuals state that they're employed. Thus, for the purposes of this report, we'll need to replace the missing values with their respective column means.\n"
   ]
  },
  {
   "cell_type": "markdown",
   "metadata": {},
   "source": [
    "Before we do that let's just confirm that the mean and median values for rows with non-null values are similar. If they are to differ, we'll err with the median as we want to represent the missing values to best reflect the non-null values. So, first we'll convert the columns into positive values using the .apply() function and then using the .describe() to compare the mean and median values for the days_employed column."
   ]
  },
  {
   "cell_type": "markdown",
   "metadata": {},
   "source": [
    "We'll also convert the values in the days_employed column to be positive and send an email to the person in charge of this dataset regarding the negative values. It's impossible to work negative days so it's logical to convert them to positive values."
   ]
  },
  {
   "cell_type": "code",
   "execution_count": 7,
   "metadata": {},
   "outputs": [
    {
     "data": {
      "text/plain": [
       "count     19351.000000\n",
       "mean      66914.728907\n",
       "std      139030.880527\n",
       "min          24.141633\n",
       "25%         927.009265\n",
       "50%        2194.220567\n",
       "75%        5537.882441\n",
       "max      401755.400475\n",
       "Name: days_employed, dtype: float64"
      ]
     },
     "execution_count": 7,
     "metadata": {},
     "output_type": "execute_result"
    }
   ],
   "source": [
    "#if the value is float we'll convert into a postive values. Anything else gets ignored\n",
    "credit_scores['days_employed'] = credit_scores['days_employed'].apply(\n",
    "    lambda x: abs(x) if type(x) == float else x)\n",
    "\n",
    "#confirm the change\n",
    "credit_scores[credit_scores['days_employed'].isnull() ==\n",
    "              False]['days_employed'].describe()"
   ]
  },
  {
   "cell_type": "markdown",
   "metadata": {},
   "source": [
    "For the days_employed column, it looks like we'll have to err on the median. Let's gather save the median to a variable and pass it to the .fillna() method; the .fillna() replaces the argument passed to it with any null values it encounters."
   ]
  },
  {
   "cell_type": "code",
   "execution_count": 8,
   "metadata": {},
   "outputs": [],
   "source": [
    "# retrieves all rows with non-null values, selects the days_employed column\n",
    "# and then picks the median value from the describe report\n",
    "employed_median = credit_scores[credit_scores['days_employed'].isnull() ==\n",
    "                                False]['days_employed'].describe()[5]\n",
    "\n",
    "credit_scores['days_employed'] = credit_scores['days_employed'].fillna(\n",
    "    employed_median)"
   ]
  },
  {
   "cell_type": "markdown",
   "metadata": {},
   "source": [
    "\n",
    "\n",
    "Let's repeat the same steps with the total_income column."
   ]
  },
  {
   "cell_type": "code",
   "execution_count": 9,
   "metadata": {},
   "outputs": [
    {
     "data": {
      "text/plain": [
       "count     19351.000000\n",
       "mean      26787.568355\n",
       "std       16475.450632\n",
       "min        3306.762000\n",
       "25%       16488.504500\n",
       "50%       23202.870000\n",
       "75%       32549.611000\n",
       "max      362496.645000\n",
       "Name: total_income, dtype: float64"
      ]
     },
     "execution_count": 9,
     "metadata": {},
     "output_type": "execute_result"
    }
   ],
   "source": [
    "credit_scores[credit_scores['total_income'].isnull() ==\n",
    "              False]['total_income'].describe()"
   ]
  },
  {
   "cell_type": "markdown",
   "metadata": {},
   "source": [
    "The mean and the median are about the same, so let's go ahead and use the mean to replace the null values in the total_income column."
   ]
  },
  {
   "cell_type": "code",
   "execution_count": 10,
   "metadata": {},
   "outputs": [],
   "source": [
    "# retrieves non-null values from total_income column; then selects the mean from the describe report\n",
    "income_mean = credit_scores[credit_scores['total_income'].isnull() ==\n",
    "                            False]['total_income'].describe()[1]\n",
    "credit_scores['total_income'] = credit_scores['total_income'].fillna(\n",
    "    income_mean)"
   ]
  },
  {
   "cell_type": "markdown",
   "metadata": {},
   "source": [
    "Let's call the .info() to confirm these changes"
   ]
  },
  {
   "cell_type": "code",
   "execution_count": 11,
   "metadata": {},
   "outputs": [
    {
     "name": "stdout",
     "output_type": "stream",
     "text": [
      "<class 'pandas.core.frame.DataFrame'>\n",
      "RangeIndex: 21525 entries, 0 to 21524\n",
      "Data columns (total 12 columns):\n",
      " #   Column            Non-Null Count  Dtype  \n",
      "---  ------            --------------  -----  \n",
      " 0   children          21525 non-null  int64  \n",
      " 1   days_employed     21525 non-null  float64\n",
      " 2   dob_years         21525 non-null  int64  \n",
      " 3   education         21525 non-null  object \n",
      " 4   education_id      21525 non-null  int64  \n",
      " 5   family_status     21525 non-null  object \n",
      " 6   family_status_id  21525 non-null  int64  \n",
      " 7   gender            21525 non-null  object \n",
      " 8   income_type       21525 non-null  object \n",
      " 9   debt              21525 non-null  int64  \n",
      " 10  total_income      21525 non-null  float64\n",
      " 11  purpose           21525 non-null  object \n",
      "dtypes: float64(2), int64(5), object(5)\n",
      "memory usage: 2.0+ MB\n"
     ]
    }
   ],
   "source": [
    "credit_scores.info()"
   ]
  },
  {
   "cell_type": "markdown",
   "metadata": {},
   "source": [
    "Nice! However, we still need to check for other possible missing values. This is a tedious task so let's create function that takes in a dataframe, iterates over each of it's columns and prints out the respective type of missing value. We'll use the following as missing values for our dataset; they're common indicators of missing values: \n",
    "    (1) numpy null values (2) 'N/A' (3) -1 (4) '' (5) '?'  "
   ]
  },
  {
   "cell_type": "code",
   "execution_count": 12,
   "metadata": {},
   "outputs": [
    {
     "data": {
      "text/html": [
       "<div>\n",
       "<style scoped>\n",
       "    .dataframe tbody tr th:only-of-type {\n",
       "        vertical-align: middle;\n",
       "    }\n",
       "\n",
       "    .dataframe tbody tr th {\n",
       "        vertical-align: top;\n",
       "    }\n",
       "\n",
       "    .dataframe thead th {\n",
       "        text-align: right;\n",
       "    }\n",
       "</style>\n",
       "<table border=\"1\" class=\"dataframe\">\n",
       "  <thead>\n",
       "    <tr style=\"text-align: right;\">\n",
       "      <th></th>\n",
       "      <th>children</th>\n",
       "      <th>days_employed</th>\n",
       "      <th>dob_years</th>\n",
       "      <th>education</th>\n",
       "      <th>education_id</th>\n",
       "      <th>family_status</th>\n",
       "      <th>family_status_id</th>\n",
       "      <th>gender</th>\n",
       "      <th>income_type</th>\n",
       "      <th>debt</th>\n",
       "      <th>total_income</th>\n",
       "      <th>purpose</th>\n",
       "    </tr>\n",
       "  </thead>\n",
       "  <tbody>\n",
       "    <tr>\n",
       "      <th>0</th>\n",
       "      <td>1</td>\n",
       "      <td>8437.673028</td>\n",
       "      <td>42</td>\n",
       "      <td>bachelor's degree</td>\n",
       "      <td>0</td>\n",
       "      <td>married</td>\n",
       "      <td>0</td>\n",
       "      <td>F</td>\n",
       "      <td>employee</td>\n",
       "      <td>0</td>\n",
       "      <td>40620.102</td>\n",
       "      <td>purchase of the house</td>\n",
       "    </tr>\n",
       "    <tr>\n",
       "      <th>1</th>\n",
       "      <td>1</td>\n",
       "      <td>4024.803754</td>\n",
       "      <td>36</td>\n",
       "      <td>secondary education</td>\n",
       "      <td>1</td>\n",
       "      <td>married</td>\n",
       "      <td>0</td>\n",
       "      <td>F</td>\n",
       "      <td>employee</td>\n",
       "      <td>0</td>\n",
       "      <td>17932.802</td>\n",
       "      <td>car purchase</td>\n",
       "    </tr>\n",
       "    <tr>\n",
       "      <th>2</th>\n",
       "      <td>0</td>\n",
       "      <td>5623.422610</td>\n",
       "      <td>33</td>\n",
       "      <td>Secondary Education</td>\n",
       "      <td>1</td>\n",
       "      <td>married</td>\n",
       "      <td>0</td>\n",
       "      <td>M</td>\n",
       "      <td>employee</td>\n",
       "      <td>0</td>\n",
       "      <td>23341.752</td>\n",
       "      <td>purchase of the house</td>\n",
       "    </tr>\n",
       "    <tr>\n",
       "      <th>3</th>\n",
       "      <td>3</td>\n",
       "      <td>4124.747207</td>\n",
       "      <td>32</td>\n",
       "      <td>secondary education</td>\n",
       "      <td>1</td>\n",
       "      <td>married</td>\n",
       "      <td>0</td>\n",
       "      <td>M</td>\n",
       "      <td>employee</td>\n",
       "      <td>0</td>\n",
       "      <td>42820.568</td>\n",
       "      <td>supplementary education</td>\n",
       "    </tr>\n",
       "    <tr>\n",
       "      <th>4</th>\n",
       "      <td>0</td>\n",
       "      <td>340266.072047</td>\n",
       "      <td>53</td>\n",
       "      <td>secondary education</td>\n",
       "      <td>1</td>\n",
       "      <td>civil partnership</td>\n",
       "      <td>1</td>\n",
       "      <td>F</td>\n",
       "      <td>retiree</td>\n",
       "      <td>0</td>\n",
       "      <td>25378.572</td>\n",
       "      <td>to have a wedding</td>\n",
       "    </tr>\n",
       "  </tbody>\n",
       "</table>\n",
       "</div>"
      ],
      "text/plain": [
       "   children  days_employed  dob_years            education  education_id  \\\n",
       "0         1    8437.673028         42    bachelor's degree             0   \n",
       "1         1    4024.803754         36  secondary education             1   \n",
       "2         0    5623.422610         33  Secondary Education             1   \n",
       "3         3    4124.747207         32  secondary education             1   \n",
       "4         0  340266.072047         53  secondary education             1   \n",
       "\n",
       "       family_status  family_status_id gender income_type  debt  total_income  \\\n",
       "0            married                 0      F    employee     0     40620.102   \n",
       "1            married                 0      F    employee     0     17932.802   \n",
       "2            married                 0      M    employee     0     23341.752   \n",
       "3            married                 0      M    employee     0     42820.568   \n",
       "4  civil partnership                 1      F     retiree     0     25378.572   \n",
       "\n",
       "                   purpose  \n",
       "0    purchase of the house  \n",
       "1             car purchase  \n",
       "2    purchase of the house  \n",
       "3  supplementary education  \n",
       "4        to have a wedding  "
      ]
     },
     "execution_count": 12,
     "metadata": {},
     "output_type": "execute_result"
    }
   ],
   "source": [
    "credit_scores.head()"
   ]
  },
  {
   "cell_type": "code",
   "execution_count": 13,
   "metadata": {},
   "outputs": [],
   "source": [
    "def missing_values(data):\n",
    "    miss = {}\n",
    "    if len(data.columns) <= 0:\n",
    "        print('Something went wrong. No columns detected.')\n",
    "    for i in data.columns:  # iterate through all columns in dataset to search for each defined missing value\n",
    "        if data[i].isnull().any():\n",
    "            miss[i] = 'Null values ' + str(\n",
    "                round(\n",
    "                    len(data[data[i].isnull() == True]) / len(data) * 100, 2))\n",
    "        try:\n",
    "            if len(np.where(data[i] == '')) > 1:\n",
    "                miss[i] = 'Empty strings ' + str(\n",
    "                    round(len(data[data[i] == '']) / len(data) * 100, 2))\n",
    "        except:\n",
    "            pass\n",
    "        if np.issubdtype(data[i].dtype,\n",
    "                         np.number) and len(data[data[i] < 0]) > 1:\n",
    "            miss[i] = 'Negative values ' + str(\n",
    "                round(len(data[data[i] < 0]) / len(data) * 100, 2))\n",
    "        try:\n",
    "            if len(data[data[i].str.lower.isin(['n/a', 'na', 'an', 'n\\a', '?'\n",
    "                                                ])]) > 1:\n",
    "                miss[i] = 'other null values present'\n",
    "        except:\n",
    "            if len(data[data[i].isin(['N/A', '?', 'na', 'Na', 'N/a'])]) > 1:\n",
    "                miss[i] = 'other null values present'\n",
    "    return sorted(miss.items(),\n",
    "                  key=lambda x: float(miss[x[0]].split(' ')[-1]),\n",
    "                  reverse=True)"
   ]
  },
  {
   "cell_type": "code",
   "execution_count": 14,
   "metadata": {},
   "outputs": [
    {
     "name": "stderr",
     "output_type": "stream",
     "text": [
      "C:\\Users\\garci\\Anaconda3\\lib\\site-packages\\pandas\\core\\ops\\array_ops.py:253: FutureWarning: elementwise comparison failed; returning scalar instead, but in the future will perform elementwise comparison\n",
      "  res_values = method(rvalues)\n"
     ]
    },
    {
     "data": {
      "text/plain": [
       "[('children', 'Negative values 0.22')]"
      ]
     },
     "execution_count": 14,
     "metadata": {},
     "output_type": "execute_result"
    }
   ],
   "source": [
    "missing_values(credit_scores)"
   ]
  },
  {
   "cell_type": "markdown",
   "metadata": {},
   "source": [
    "Looks like we'll have to check out the children column rows given the 22% negative values present in that column"
   ]
  },
  {
   "cell_type": "code",
   "execution_count": 15,
   "metadata": {
    "scrolled": true
   },
   "outputs": [
    {
     "name": "stdout",
     "output_type": "stream",
     "text": [
      "47\n"
     ]
    },
    {
     "data": {
      "text/html": [
       "<div>\n",
       "<style scoped>\n",
       "    .dataframe tbody tr th:only-of-type {\n",
       "        vertical-align: middle;\n",
       "    }\n",
       "\n",
       "    .dataframe tbody tr th {\n",
       "        vertical-align: top;\n",
       "    }\n",
       "\n",
       "    .dataframe thead th {\n",
       "        text-align: right;\n",
       "    }\n",
       "</style>\n",
       "<table border=\"1\" class=\"dataframe\">\n",
       "  <thead>\n",
       "    <tr style=\"text-align: right;\">\n",
       "      <th></th>\n",
       "      <th>children</th>\n",
       "      <th>days_employed</th>\n",
       "      <th>dob_years</th>\n",
       "      <th>education</th>\n",
       "      <th>education_id</th>\n",
       "      <th>family_status</th>\n",
       "      <th>family_status_id</th>\n",
       "      <th>gender</th>\n",
       "      <th>income_type</th>\n",
       "      <th>debt</th>\n",
       "      <th>total_income</th>\n",
       "      <th>purpose</th>\n",
       "    </tr>\n",
       "  </thead>\n",
       "  <tbody>\n",
       "    <tr>\n",
       "      <th>291</th>\n",
       "      <td>-1</td>\n",
       "      <td>4417.703588</td>\n",
       "      <td>46</td>\n",
       "      <td>secondary education</td>\n",
       "      <td>1</td>\n",
       "      <td>civil partnership</td>\n",
       "      <td>1</td>\n",
       "      <td>F</td>\n",
       "      <td>employee</td>\n",
       "      <td>0</td>\n",
       "      <td>16450.615000</td>\n",
       "      <td>profile education</td>\n",
       "    </tr>\n",
       "    <tr>\n",
       "      <th>705</th>\n",
       "      <td>-1</td>\n",
       "      <td>902.084528</td>\n",
       "      <td>50</td>\n",
       "      <td>secondary education</td>\n",
       "      <td>1</td>\n",
       "      <td>married</td>\n",
       "      <td>0</td>\n",
       "      <td>F</td>\n",
       "      <td>civil servant</td>\n",
       "      <td>0</td>\n",
       "      <td>22061.264000</td>\n",
       "      <td>car purchase</td>\n",
       "    </tr>\n",
       "    <tr>\n",
       "      <th>742</th>\n",
       "      <td>-1</td>\n",
       "      <td>3174.456205</td>\n",
       "      <td>57</td>\n",
       "      <td>secondary education</td>\n",
       "      <td>1</td>\n",
       "      <td>married</td>\n",
       "      <td>0</td>\n",
       "      <td>F</td>\n",
       "      <td>employee</td>\n",
       "      <td>0</td>\n",
       "      <td>10282.887000</td>\n",
       "      <td>supplementary education</td>\n",
       "    </tr>\n",
       "    <tr>\n",
       "      <th>800</th>\n",
       "      <td>-1</td>\n",
       "      <td>349987.852217</td>\n",
       "      <td>54</td>\n",
       "      <td>secondary education</td>\n",
       "      <td>1</td>\n",
       "      <td>unmarried</td>\n",
       "      <td>4</td>\n",
       "      <td>F</td>\n",
       "      <td>retiree</td>\n",
       "      <td>0</td>\n",
       "      <td>13806.996000</td>\n",
       "      <td>supplementary education</td>\n",
       "    </tr>\n",
       "    <tr>\n",
       "      <th>941</th>\n",
       "      <td>-1</td>\n",
       "      <td>2194.220567</td>\n",
       "      <td>57</td>\n",
       "      <td>Secondary Education</td>\n",
       "      <td>1</td>\n",
       "      <td>married</td>\n",
       "      <td>0</td>\n",
       "      <td>F</td>\n",
       "      <td>retiree</td>\n",
       "      <td>0</td>\n",
       "      <td>26787.568355</td>\n",
       "      <td>buying my own car</td>\n",
       "    </tr>\n",
       "    <tr>\n",
       "      <th>1363</th>\n",
       "      <td>-1</td>\n",
       "      <td>1195.264956</td>\n",
       "      <td>55</td>\n",
       "      <td>SECONDARY EDUCATION</td>\n",
       "      <td>1</td>\n",
       "      <td>married</td>\n",
       "      <td>0</td>\n",
       "      <td>F</td>\n",
       "      <td>business</td>\n",
       "      <td>0</td>\n",
       "      <td>11128.112000</td>\n",
       "      <td>profile education</td>\n",
       "    </tr>\n",
       "    <tr>\n",
       "      <th>1929</th>\n",
       "      <td>-1</td>\n",
       "      <td>1461.303336</td>\n",
       "      <td>38</td>\n",
       "      <td>secondary education</td>\n",
       "      <td>1</td>\n",
       "      <td>unmarried</td>\n",
       "      <td>4</td>\n",
       "      <td>M</td>\n",
       "      <td>employee</td>\n",
       "      <td>0</td>\n",
       "      <td>17459.451000</td>\n",
       "      <td>purchase of the house</td>\n",
       "    </tr>\n",
       "    <tr>\n",
       "      <th>2073</th>\n",
       "      <td>-1</td>\n",
       "      <td>2539.761232</td>\n",
       "      <td>42</td>\n",
       "      <td>secondary education</td>\n",
       "      <td>1</td>\n",
       "      <td>divorced</td>\n",
       "      <td>3</td>\n",
       "      <td>F</td>\n",
       "      <td>business</td>\n",
       "      <td>0</td>\n",
       "      <td>26022.177000</td>\n",
       "      <td>purchase of the house</td>\n",
       "    </tr>\n",
       "    <tr>\n",
       "      <th>3814</th>\n",
       "      <td>-1</td>\n",
       "      <td>3045.290443</td>\n",
       "      <td>26</td>\n",
       "      <td>Secondary Education</td>\n",
       "      <td>1</td>\n",
       "      <td>civil partnership</td>\n",
       "      <td>1</td>\n",
       "      <td>F</td>\n",
       "      <td>civil servant</td>\n",
       "      <td>0</td>\n",
       "      <td>21102.846000</td>\n",
       "      <td>having a wedding</td>\n",
       "    </tr>\n",
       "    <tr>\n",
       "      <th>4201</th>\n",
       "      <td>-1</td>\n",
       "      <td>901.101738</td>\n",
       "      <td>41</td>\n",
       "      <td>secondary education</td>\n",
       "      <td>1</td>\n",
       "      <td>married</td>\n",
       "      <td>0</td>\n",
       "      <td>F</td>\n",
       "      <td>civil servant</td>\n",
       "      <td>0</td>\n",
       "      <td>36220.123000</td>\n",
       "      <td>transactions with my real estate</td>\n",
       "    </tr>\n",
       "    <tr>\n",
       "      <th>4402</th>\n",
       "      <td>-1</td>\n",
       "      <td>398001.302888</td>\n",
       "      <td>64</td>\n",
       "      <td>SECONDARY EDUCATION</td>\n",
       "      <td>1</td>\n",
       "      <td>married</td>\n",
       "      <td>0</td>\n",
       "      <td>F</td>\n",
       "      <td>retiree</td>\n",
       "      <td>0</td>\n",
       "      <td>26122.250000</td>\n",
       "      <td>buy real estate</td>\n",
       "    </tr>\n",
       "    <tr>\n",
       "      <th>4542</th>\n",
       "      <td>-1</td>\n",
       "      <td>1811.899756</td>\n",
       "      <td>32</td>\n",
       "      <td>secondary education</td>\n",
       "      <td>1</td>\n",
       "      <td>married</td>\n",
       "      <td>0</td>\n",
       "      <td>F</td>\n",
       "      <td>employee</td>\n",
       "      <td>0</td>\n",
       "      <td>25687.155000</td>\n",
       "      <td>education</td>\n",
       "    </tr>\n",
       "    <tr>\n",
       "      <th>5272</th>\n",
       "      <td>-1</td>\n",
       "      <td>1143.485347</td>\n",
       "      <td>46</td>\n",
       "      <td>secondary education</td>\n",
       "      <td>1</td>\n",
       "      <td>widow / widower</td>\n",
       "      <td>2</td>\n",
       "      <td>F</td>\n",
       "      <td>employee</td>\n",
       "      <td>0</td>\n",
       "      <td>44593.283000</td>\n",
       "      <td>buy real estate</td>\n",
       "    </tr>\n",
       "    <tr>\n",
       "      <th>6013</th>\n",
       "      <td>-1</td>\n",
       "      <td>1361.258696</td>\n",
       "      <td>46</td>\n",
       "      <td>bachelor's degree</td>\n",
       "      <td>0</td>\n",
       "      <td>married</td>\n",
       "      <td>0</td>\n",
       "      <td>F</td>\n",
       "      <td>employee</td>\n",
       "      <td>0</td>\n",
       "      <td>22881.353000</td>\n",
       "      <td>construction of own property</td>\n",
       "    </tr>\n",
       "    <tr>\n",
       "      <th>6385</th>\n",
       "      <td>-1</td>\n",
       "      <td>370215.476226</td>\n",
       "      <td>48</td>\n",
       "      <td>secondary education</td>\n",
       "      <td>1</td>\n",
       "      <td>widow / widower</td>\n",
       "      <td>2</td>\n",
       "      <td>F</td>\n",
       "      <td>retiree</td>\n",
       "      <td>0</td>\n",
       "      <td>5768.392000</td>\n",
       "      <td>education</td>\n",
       "    </tr>\n",
       "    <tr>\n",
       "      <th>7190</th>\n",
       "      <td>-1</td>\n",
       "      <td>5928.202068</td>\n",
       "      <td>34</td>\n",
       "      <td>SECONDARY EDUCATION</td>\n",
       "      <td>1</td>\n",
       "      <td>married</td>\n",
       "      <td>0</td>\n",
       "      <td>M</td>\n",
       "      <td>employee</td>\n",
       "      <td>0</td>\n",
       "      <td>29490.420000</td>\n",
       "      <td>car purchase</td>\n",
       "    </tr>\n",
       "    <tr>\n",
       "      <th>7278</th>\n",
       "      <td>-1</td>\n",
       "      <td>526.318451</td>\n",
       "      <td>51</td>\n",
       "      <td>secondary education</td>\n",
       "      <td>1</td>\n",
       "      <td>married</td>\n",
       "      <td>0</td>\n",
       "      <td>F</td>\n",
       "      <td>employee</td>\n",
       "      <td>0</td>\n",
       "      <td>23508.603000</td>\n",
       "      <td>transactions with commercial real estate</td>\n",
       "    </tr>\n",
       "    <tr>\n",
       "      <th>7615</th>\n",
       "      <td>-1</td>\n",
       "      <td>2194.220567</td>\n",
       "      <td>35</td>\n",
       "      <td>secondary education</td>\n",
       "      <td>1</td>\n",
       "      <td>married</td>\n",
       "      <td>0</td>\n",
       "      <td>M</td>\n",
       "      <td>employee</td>\n",
       "      <td>0</td>\n",
       "      <td>26787.568355</td>\n",
       "      <td>education</td>\n",
       "    </tr>\n",
       "    <tr>\n",
       "      <th>7685</th>\n",
       "      <td>-1</td>\n",
       "      <td>3237.360455</td>\n",
       "      <td>53</td>\n",
       "      <td>secondary education</td>\n",
       "      <td>1</td>\n",
       "      <td>widow / widower</td>\n",
       "      <td>2</td>\n",
       "      <td>F</td>\n",
       "      <td>employee</td>\n",
       "      <td>0</td>\n",
       "      <td>25548.188000</td>\n",
       "      <td>building a real estate</td>\n",
       "    </tr>\n",
       "    <tr>\n",
       "      <th>8229</th>\n",
       "      <td>-1</td>\n",
       "      <td>1803.441074</td>\n",
       "      <td>54</td>\n",
       "      <td>bachelor's degree</td>\n",
       "      <td>0</td>\n",
       "      <td>married</td>\n",
       "      <td>0</td>\n",
       "      <td>F</td>\n",
       "      <td>business</td>\n",
       "      <td>0</td>\n",
       "      <td>22209.453000</td>\n",
       "      <td>buy real estate</td>\n",
       "    </tr>\n",
       "    <tr>\n",
       "      <th>8251</th>\n",
       "      <td>-1</td>\n",
       "      <td>3113.998449</td>\n",
       "      <td>31</td>\n",
       "      <td>secondary education</td>\n",
       "      <td>1</td>\n",
       "      <td>civil partnership</td>\n",
       "      <td>1</td>\n",
       "      <td>F</td>\n",
       "      <td>employee</td>\n",
       "      <td>0</td>\n",
       "      <td>8705.929000</td>\n",
       "      <td>to own a car</td>\n",
       "    </tr>\n",
       "    <tr>\n",
       "      <th>8561</th>\n",
       "      <td>-1</td>\n",
       "      <td>195.479496</td>\n",
       "      <td>31</td>\n",
       "      <td>secondary education</td>\n",
       "      <td>1</td>\n",
       "      <td>married</td>\n",
       "      <td>0</td>\n",
       "      <td>F</td>\n",
       "      <td>employee</td>\n",
       "      <td>0</td>\n",
       "      <td>23292.461000</td>\n",
       "      <td>housing renovation</td>\n",
       "    </tr>\n",
       "    <tr>\n",
       "      <th>9565</th>\n",
       "      <td>-1</td>\n",
       "      <td>2896.629686</td>\n",
       "      <td>34</td>\n",
       "      <td>bachelor's degree</td>\n",
       "      <td>0</td>\n",
       "      <td>married</td>\n",
       "      <td>0</td>\n",
       "      <td>M</td>\n",
       "      <td>employee</td>\n",
       "      <td>0</td>\n",
       "      <td>20280.745000</td>\n",
       "      <td>real estate transactions</td>\n",
       "    </tr>\n",
       "    <tr>\n",
       "      <th>9574</th>\n",
       "      <td>-1</td>\n",
       "      <td>2710.419901</td>\n",
       "      <td>28</td>\n",
       "      <td>bachelor's degree</td>\n",
       "      <td>0</td>\n",
       "      <td>married</td>\n",
       "      <td>0</td>\n",
       "      <td>M</td>\n",
       "      <td>civil servant</td>\n",
       "      <td>0</td>\n",
       "      <td>48501.946000</td>\n",
       "      <td>to get a supplementary education</td>\n",
       "    </tr>\n",
       "    <tr>\n",
       "      <th>10177</th>\n",
       "      <td>-1</td>\n",
       "      <td>1743.604011</td>\n",
       "      <td>37</td>\n",
       "      <td>secondary education</td>\n",
       "      <td>1</td>\n",
       "      <td>married</td>\n",
       "      <td>0</td>\n",
       "      <td>M</td>\n",
       "      <td>employee</td>\n",
       "      <td>0</td>\n",
       "      <td>49658.801000</td>\n",
       "      <td>getting an education</td>\n",
       "    </tr>\n",
       "    <tr>\n",
       "      <th>10365</th>\n",
       "      <td>-1</td>\n",
       "      <td>345774.125957</td>\n",
       "      <td>63</td>\n",
       "      <td>BACHELOR'S DEGREE</td>\n",
       "      <td>0</td>\n",
       "      <td>widow / widower</td>\n",
       "      <td>2</td>\n",
       "      <td>F</td>\n",
       "      <td>retiree</td>\n",
       "      <td>0</td>\n",
       "      <td>27322.040000</td>\n",
       "      <td>building a real estate</td>\n",
       "    </tr>\n",
       "    <tr>\n",
       "      <th>10918</th>\n",
       "      <td>-1</td>\n",
       "      <td>340499.039342</td>\n",
       "      <td>50</td>\n",
       "      <td>secondary education</td>\n",
       "      <td>1</td>\n",
       "      <td>married</td>\n",
       "      <td>0</td>\n",
       "      <td>M</td>\n",
       "      <td>retiree</td>\n",
       "      <td>0</td>\n",
       "      <td>27322.044000</td>\n",
       "      <td>purchase of my own house</td>\n",
       "    </tr>\n",
       "    <tr>\n",
       "      <th>11109</th>\n",
       "      <td>-1</td>\n",
       "      <td>3438.463024</td>\n",
       "      <td>59</td>\n",
       "      <td>secondary education</td>\n",
       "      <td>1</td>\n",
       "      <td>married</td>\n",
       "      <td>0</td>\n",
       "      <td>F</td>\n",
       "      <td>employee</td>\n",
       "      <td>0</td>\n",
       "      <td>35179.842000</td>\n",
       "      <td>housing transactions</td>\n",
       "    </tr>\n",
       "    <tr>\n",
       "      <th>11268</th>\n",
       "      <td>-1</td>\n",
       "      <td>1048.782203</td>\n",
       "      <td>30</td>\n",
       "      <td>bachelor's degree</td>\n",
       "      <td>0</td>\n",
       "      <td>civil partnership</td>\n",
       "      <td>1</td>\n",
       "      <td>F</td>\n",
       "      <td>business</td>\n",
       "      <td>0</td>\n",
       "      <td>51456.592000</td>\n",
       "      <td>to buy a car</td>\n",
       "    </tr>\n",
       "    <tr>\n",
       "      <th>11617</th>\n",
       "      <td>-1</td>\n",
       "      <td>370.827130</td>\n",
       "      <td>27</td>\n",
       "      <td>secondary education</td>\n",
       "      <td>1</td>\n",
       "      <td>married</td>\n",
       "      <td>0</td>\n",
       "      <td>F</td>\n",
       "      <td>business</td>\n",
       "      <td>0</td>\n",
       "      <td>26334.602000</td>\n",
       "      <td>buying property for renting out</td>\n",
       "    </tr>\n",
       "    <tr>\n",
       "      <th>12304</th>\n",
       "      <td>-1</td>\n",
       "      <td>8493.101252</td>\n",
       "      <td>61</td>\n",
       "      <td>some college</td>\n",
       "      <td>2</td>\n",
       "      <td>married</td>\n",
       "      <td>0</td>\n",
       "      <td>M</td>\n",
       "      <td>employee</td>\n",
       "      <td>0</td>\n",
       "      <td>50400.989000</td>\n",
       "      <td>property</td>\n",
       "    </tr>\n",
       "    <tr>\n",
       "      <th>13786</th>\n",
       "      <td>-1</td>\n",
       "      <td>2194.220567</td>\n",
       "      <td>42</td>\n",
       "      <td>secondary education</td>\n",
       "      <td>1</td>\n",
       "      <td>unmarried</td>\n",
       "      <td>4</td>\n",
       "      <td>M</td>\n",
       "      <td>business</td>\n",
       "      <td>0</td>\n",
       "      <td>26787.568355</td>\n",
       "      <td>car</td>\n",
       "    </tr>\n",
       "    <tr>\n",
       "      <th>14357</th>\n",
       "      <td>-1</td>\n",
       "      <td>268.337037</td>\n",
       "      <td>23</td>\n",
       "      <td>secondary education</td>\n",
       "      <td>1</td>\n",
       "      <td>divorced</td>\n",
       "      <td>3</td>\n",
       "      <td>F</td>\n",
       "      <td>business</td>\n",
       "      <td>0</td>\n",
       "      <td>14761.213000</td>\n",
       "      <td>buy residential real estate</td>\n",
       "    </tr>\n",
       "    <tr>\n",
       "      <th>15147</th>\n",
       "      <td>-1</td>\n",
       "      <td>9851.184337</td>\n",
       "      <td>44</td>\n",
       "      <td>secondary education</td>\n",
       "      <td>1</td>\n",
       "      <td>divorced</td>\n",
       "      <td>3</td>\n",
       "      <td>F</td>\n",
       "      <td>employee</td>\n",
       "      <td>0</td>\n",
       "      <td>17758.530000</td>\n",
       "      <td>to own a car</td>\n",
       "    </tr>\n",
       "    <tr>\n",
       "      <th>15435</th>\n",
       "      <td>-1</td>\n",
       "      <td>3614.220232</td>\n",
       "      <td>40</td>\n",
       "      <td>bachelor's degree</td>\n",
       "      <td>0</td>\n",
       "      <td>civil partnership</td>\n",
       "      <td>1</td>\n",
       "      <td>F</td>\n",
       "      <td>employee</td>\n",
       "      <td>0</td>\n",
       "      <td>15700.406000</td>\n",
       "      <td>to have a wedding</td>\n",
       "    </tr>\n",
       "    <tr>\n",
       "      <th>16129</th>\n",
       "      <td>-1</td>\n",
       "      <td>457.861760</td>\n",
       "      <td>33</td>\n",
       "      <td>secondary education</td>\n",
       "      <td>1</td>\n",
       "      <td>married</td>\n",
       "      <td>0</td>\n",
       "      <td>F</td>\n",
       "      <td>employee</td>\n",
       "      <td>1</td>\n",
       "      <td>23942.573000</td>\n",
       "      <td>car</td>\n",
       "    </tr>\n",
       "    <tr>\n",
       "      <th>16265</th>\n",
       "      <td>-1</td>\n",
       "      <td>2802.218127</td>\n",
       "      <td>40</td>\n",
       "      <td>bachelor's degree</td>\n",
       "      <td>0</td>\n",
       "      <td>married</td>\n",
       "      <td>0</td>\n",
       "      <td>M</td>\n",
       "      <td>employee</td>\n",
       "      <td>0</td>\n",
       "      <td>17917.516000</td>\n",
       "      <td>purchase of the house</td>\n",
       "    </tr>\n",
       "    <tr>\n",
       "      <th>17095</th>\n",
       "      <td>-1</td>\n",
       "      <td>2809.693200</td>\n",
       "      <td>34</td>\n",
       "      <td>secondary education</td>\n",
       "      <td>1</td>\n",
       "      <td>married</td>\n",
       "      <td>0</td>\n",
       "      <td>F</td>\n",
       "      <td>employee</td>\n",
       "      <td>0</td>\n",
       "      <td>29207.022000</td>\n",
       "      <td>buying a second-hand car</td>\n",
       "    </tr>\n",
       "    <tr>\n",
       "      <th>17429</th>\n",
       "      <td>-1</td>\n",
       "      <td>895.379738</td>\n",
       "      <td>37</td>\n",
       "      <td>secondary education</td>\n",
       "      <td>1</td>\n",
       "      <td>married</td>\n",
       "      <td>0</td>\n",
       "      <td>F</td>\n",
       "      <td>business</td>\n",
       "      <td>0</td>\n",
       "      <td>34370.243000</td>\n",
       "      <td>housing</td>\n",
       "    </tr>\n",
       "    <tr>\n",
       "      <th>17657</th>\n",
       "      <td>-1</td>\n",
       "      <td>4571.957475</td>\n",
       "      <td>41</td>\n",
       "      <td>secondary education</td>\n",
       "      <td>1</td>\n",
       "      <td>married</td>\n",
       "      <td>0</td>\n",
       "      <td>F</td>\n",
       "      <td>employee</td>\n",
       "      <td>0</td>\n",
       "      <td>19536.867000</td>\n",
       "      <td>transactions with my real estate</td>\n",
       "    </tr>\n",
       "    <tr>\n",
       "      <th>18219</th>\n",
       "      <td>-1</td>\n",
       "      <td>3575.215641</td>\n",
       "      <td>33</td>\n",
       "      <td>secondary education</td>\n",
       "      <td>1</td>\n",
       "      <td>married</td>\n",
       "      <td>0</td>\n",
       "      <td>F</td>\n",
       "      <td>employee</td>\n",
       "      <td>0</td>\n",
       "      <td>20537.924000</td>\n",
       "      <td>university education</td>\n",
       "    </tr>\n",
       "    <tr>\n",
       "      <th>19100</th>\n",
       "      <td>-1</td>\n",
       "      <td>617.246968</td>\n",
       "      <td>38</td>\n",
       "      <td>secondary education</td>\n",
       "      <td>1</td>\n",
       "      <td>unmarried</td>\n",
       "      <td>4</td>\n",
       "      <td>M</td>\n",
       "      <td>employee</td>\n",
       "      <td>0</td>\n",
       "      <td>19552.880000</td>\n",
       "      <td>building a real estate</td>\n",
       "    </tr>\n",
       "    <tr>\n",
       "      <th>19366</th>\n",
       "      <td>-1</td>\n",
       "      <td>372.034749</td>\n",
       "      <td>43</td>\n",
       "      <td>SECONDARY EDUCATION</td>\n",
       "      <td>1</td>\n",
       "      <td>married</td>\n",
       "      <td>0</td>\n",
       "      <td>M</td>\n",
       "      <td>employee</td>\n",
       "      <td>0</td>\n",
       "      <td>24894.203000</td>\n",
       "      <td>second-hand car purchase</td>\n",
       "    </tr>\n",
       "    <tr>\n",
       "      <th>19417</th>\n",
       "      <td>-1</td>\n",
       "      <td>350340.760224</td>\n",
       "      <td>28</td>\n",
       "      <td>secondary education</td>\n",
       "      <td>1</td>\n",
       "      <td>divorced</td>\n",
       "      <td>3</td>\n",
       "      <td>F</td>\n",
       "      <td>retiree</td>\n",
       "      <td>0</td>\n",
       "      <td>8459.679000</td>\n",
       "      <td>cars</td>\n",
       "    </tr>\n",
       "    <tr>\n",
       "      <th>20393</th>\n",
       "      <td>-1</td>\n",
       "      <td>355157.107212</td>\n",
       "      <td>69</td>\n",
       "      <td>secondary education</td>\n",
       "      <td>1</td>\n",
       "      <td>unmarried</td>\n",
       "      <td>4</td>\n",
       "      <td>F</td>\n",
       "      <td>retiree</td>\n",
       "      <td>0</td>\n",
       "      <td>18643.367000</td>\n",
       "      <td>real estate transactions</td>\n",
       "    </tr>\n",
       "    <tr>\n",
       "      <th>20717</th>\n",
       "      <td>-1</td>\n",
       "      <td>661.822321</td>\n",
       "      <td>32</td>\n",
       "      <td>bachelor's degree</td>\n",
       "      <td>0</td>\n",
       "      <td>married</td>\n",
       "      <td>0</td>\n",
       "      <td>F</td>\n",
       "      <td>employee</td>\n",
       "      <td>0</td>\n",
       "      <td>21984.862000</td>\n",
       "      <td>buy residential real estate</td>\n",
       "    </tr>\n",
       "    <tr>\n",
       "      <th>21140</th>\n",
       "      <td>-1</td>\n",
       "      <td>1422.668059</td>\n",
       "      <td>44</td>\n",
       "      <td>secondary education</td>\n",
       "      <td>1</td>\n",
       "      <td>married</td>\n",
       "      <td>0</td>\n",
       "      <td>F</td>\n",
       "      <td>business</td>\n",
       "      <td>0</td>\n",
       "      <td>27129.935000</td>\n",
       "      <td>transactions with my real estate</td>\n",
       "    </tr>\n",
       "  </tbody>\n",
       "</table>\n",
       "</div>"
      ],
      "text/plain": [
       "       children  days_employed  dob_years            education  education_id  \\\n",
       "291          -1    4417.703588         46  secondary education             1   \n",
       "705          -1     902.084528         50  secondary education             1   \n",
       "742          -1    3174.456205         57  secondary education             1   \n",
       "800          -1  349987.852217         54  secondary education             1   \n",
       "941          -1    2194.220567         57  Secondary Education             1   \n",
       "1363         -1    1195.264956         55  SECONDARY EDUCATION             1   \n",
       "1929         -1    1461.303336         38  secondary education             1   \n",
       "2073         -1    2539.761232         42  secondary education             1   \n",
       "3814         -1    3045.290443         26  Secondary Education             1   \n",
       "4201         -1     901.101738         41  secondary education             1   \n",
       "4402         -1  398001.302888         64  SECONDARY EDUCATION             1   \n",
       "4542         -1    1811.899756         32  secondary education             1   \n",
       "5272         -1    1143.485347         46  secondary education             1   \n",
       "6013         -1    1361.258696         46    bachelor's degree             0   \n",
       "6385         -1  370215.476226         48  secondary education             1   \n",
       "7190         -1    5928.202068         34  SECONDARY EDUCATION             1   \n",
       "7278         -1     526.318451         51  secondary education             1   \n",
       "7615         -1    2194.220567         35  secondary education             1   \n",
       "7685         -1    3237.360455         53  secondary education             1   \n",
       "8229         -1    1803.441074         54    bachelor's degree             0   \n",
       "8251         -1    3113.998449         31  secondary education             1   \n",
       "8561         -1     195.479496         31  secondary education             1   \n",
       "9565         -1    2896.629686         34    bachelor's degree             0   \n",
       "9574         -1    2710.419901         28    bachelor's degree             0   \n",
       "10177        -1    1743.604011         37  secondary education             1   \n",
       "10365        -1  345774.125957         63    BACHELOR'S DEGREE             0   \n",
       "10918        -1  340499.039342         50  secondary education             1   \n",
       "11109        -1    3438.463024         59  secondary education             1   \n",
       "11268        -1    1048.782203         30    bachelor's degree             0   \n",
       "11617        -1     370.827130         27  secondary education             1   \n",
       "12304        -1    8493.101252         61         some college             2   \n",
       "13786        -1    2194.220567         42  secondary education             1   \n",
       "14357        -1     268.337037         23  secondary education             1   \n",
       "15147        -1    9851.184337         44  secondary education             1   \n",
       "15435        -1    3614.220232         40    bachelor's degree             0   \n",
       "16129        -1     457.861760         33  secondary education             1   \n",
       "16265        -1    2802.218127         40    bachelor's degree             0   \n",
       "17095        -1    2809.693200         34  secondary education             1   \n",
       "17429        -1     895.379738         37  secondary education             1   \n",
       "17657        -1    4571.957475         41  secondary education             1   \n",
       "18219        -1    3575.215641         33  secondary education             1   \n",
       "19100        -1     617.246968         38  secondary education             1   \n",
       "19366        -1     372.034749         43  SECONDARY EDUCATION             1   \n",
       "19417        -1  350340.760224         28  secondary education             1   \n",
       "20393        -1  355157.107212         69  secondary education             1   \n",
       "20717        -1     661.822321         32    bachelor's degree             0   \n",
       "21140        -1    1422.668059         44  secondary education             1   \n",
       "\n",
       "           family_status  family_status_id gender    income_type  debt  \\\n",
       "291    civil partnership                 1      F       employee     0   \n",
       "705              married                 0      F  civil servant     0   \n",
       "742              married                 0      F       employee     0   \n",
       "800            unmarried                 4      F        retiree     0   \n",
       "941              married                 0      F        retiree     0   \n",
       "1363             married                 0      F       business     0   \n",
       "1929           unmarried                 4      M       employee     0   \n",
       "2073            divorced                 3      F       business     0   \n",
       "3814   civil partnership                 1      F  civil servant     0   \n",
       "4201             married                 0      F  civil servant     0   \n",
       "4402             married                 0      F        retiree     0   \n",
       "4542             married                 0      F       employee     0   \n",
       "5272     widow / widower                 2      F       employee     0   \n",
       "6013             married                 0      F       employee     0   \n",
       "6385     widow / widower                 2      F        retiree     0   \n",
       "7190             married                 0      M       employee     0   \n",
       "7278             married                 0      F       employee     0   \n",
       "7615             married                 0      M       employee     0   \n",
       "7685     widow / widower                 2      F       employee     0   \n",
       "8229             married                 0      F       business     0   \n",
       "8251   civil partnership                 1      F       employee     0   \n",
       "8561             married                 0      F       employee     0   \n",
       "9565             married                 0      M       employee     0   \n",
       "9574             married                 0      M  civil servant     0   \n",
       "10177            married                 0      M       employee     0   \n",
       "10365    widow / widower                 2      F        retiree     0   \n",
       "10918            married                 0      M        retiree     0   \n",
       "11109            married                 0      F       employee     0   \n",
       "11268  civil partnership                 1      F       business     0   \n",
       "11617            married                 0      F       business     0   \n",
       "12304            married                 0      M       employee     0   \n",
       "13786          unmarried                 4      M       business     0   \n",
       "14357           divorced                 3      F       business     0   \n",
       "15147           divorced                 3      F       employee     0   \n",
       "15435  civil partnership                 1      F       employee     0   \n",
       "16129            married                 0      F       employee     1   \n",
       "16265            married                 0      M       employee     0   \n",
       "17095            married                 0      F       employee     0   \n",
       "17429            married                 0      F       business     0   \n",
       "17657            married                 0      F       employee     0   \n",
       "18219            married                 0      F       employee     0   \n",
       "19100          unmarried                 4      M       employee     0   \n",
       "19366            married                 0      M       employee     0   \n",
       "19417           divorced                 3      F        retiree     0   \n",
       "20393          unmarried                 4      F        retiree     0   \n",
       "20717            married                 0      F       employee     0   \n",
       "21140            married                 0      F       business     0   \n",
       "\n",
       "       total_income                                   purpose  \n",
       "291    16450.615000                         profile education  \n",
       "705    22061.264000                              car purchase  \n",
       "742    10282.887000                   supplementary education  \n",
       "800    13806.996000                   supplementary education  \n",
       "941    26787.568355                         buying my own car  \n",
       "1363   11128.112000                         profile education  \n",
       "1929   17459.451000                     purchase of the house  \n",
       "2073   26022.177000                     purchase of the house  \n",
       "3814   21102.846000                          having a wedding  \n",
       "4201   36220.123000          transactions with my real estate  \n",
       "4402   26122.250000                           buy real estate  \n",
       "4542   25687.155000                                 education  \n",
       "5272   44593.283000                           buy real estate  \n",
       "6013   22881.353000              construction of own property  \n",
       "6385    5768.392000                                 education  \n",
       "7190   29490.420000                              car purchase  \n",
       "7278   23508.603000  transactions with commercial real estate  \n",
       "7615   26787.568355                                 education  \n",
       "7685   25548.188000                    building a real estate  \n",
       "8229   22209.453000                           buy real estate  \n",
       "8251    8705.929000                              to own a car  \n",
       "8561   23292.461000                        housing renovation  \n",
       "9565   20280.745000                  real estate transactions  \n",
       "9574   48501.946000          to get a supplementary education  \n",
       "10177  49658.801000                      getting an education  \n",
       "10365  27322.040000                    building a real estate  \n",
       "10918  27322.044000                  purchase of my own house  \n",
       "11109  35179.842000                      housing transactions  \n",
       "11268  51456.592000                              to buy a car  \n",
       "11617  26334.602000           buying property for renting out  \n",
       "12304  50400.989000                                  property  \n",
       "13786  26787.568355                                       car  \n",
       "14357  14761.213000               buy residential real estate  \n",
       "15147  17758.530000                              to own a car  \n",
       "15435  15700.406000                         to have a wedding  \n",
       "16129  23942.573000                                       car  \n",
       "16265  17917.516000                     purchase of the house  \n",
       "17095  29207.022000                  buying a second-hand car  \n",
       "17429  34370.243000                                   housing  \n",
       "17657  19536.867000          transactions with my real estate  \n",
       "18219  20537.924000                      university education  \n",
       "19100  19552.880000                    building a real estate  \n",
       "19366  24894.203000                  second-hand car purchase  \n",
       "19417   8459.679000                                      cars  \n",
       "20393  18643.367000                  real estate transactions  \n",
       "20717  21984.862000               buy residential real estate  \n",
       "21140  27129.935000          transactions with my real estate  "
      ]
     },
     "execution_count": 15,
     "metadata": {},
     "output_type": "execute_result"
    }
   ],
   "source": [
    "#length of negative one values in children column\n",
    "print(len(credit_scores[credit_scores['children']==-1])) \n",
    "credit_scores[credit_scores['children']==-1]"
   ]
  },
  {
   "cell_type": "markdown",
   "metadata": {},
   "source": [
    "With so little information, it's hard to tell why there are negative values in this column. We'll send an email to the person in charge of this data to see why this is so. In the meantime, let's replace those values following the procedure previously used with the null values. However, for this column let's use the mean given that the values are not as dispersed. "
   ]
  },
  {
   "cell_type": "code",
   "execution_count": 16,
   "metadata": {},
   "outputs": [
    {
     "name": "stdout",
     "output_type": "stream",
     "text": [
      "1\n"
     ]
    }
   ],
   "source": [
    "# round the mean of children column values which do not contain the -1 value\n",
    "children_mean = round(\n",
    "    credit_scores[credit_scores['children'] != -1]['children'].mean())\n",
    "print(children_mean)"
   ]
  },
  {
   "cell_type": "code",
   "execution_count": 17,
   "metadata": {},
   "outputs": [],
   "source": [
    "# retrieve the rows where children column is -1 and then select the children column from that result\n",
    "# assign those values with the mean we calculated earlier\n",
    "credit_scores.loc[credit_scores['children'] == -1,\n",
    "                  'children'] = int(children_mean)"
   ]
  },
  {
   "cell_type": "code",
   "execution_count": 18,
   "metadata": {},
   "outputs": [
    {
     "data": {
      "text/html": [
       "<div>\n",
       "<style scoped>\n",
       "    .dataframe tbody tr th:only-of-type {\n",
       "        vertical-align: middle;\n",
       "    }\n",
       "\n",
       "    .dataframe tbody tr th {\n",
       "        vertical-align: top;\n",
       "    }\n",
       "\n",
       "    .dataframe thead th {\n",
       "        text-align: right;\n",
       "    }\n",
       "</style>\n",
       "<table border=\"1\" class=\"dataframe\">\n",
       "  <thead>\n",
       "    <tr style=\"text-align: right;\">\n",
       "      <th></th>\n",
       "      <th>children</th>\n",
       "      <th>days_employed</th>\n",
       "      <th>dob_years</th>\n",
       "      <th>education</th>\n",
       "      <th>education_id</th>\n",
       "      <th>family_status</th>\n",
       "      <th>family_status_id</th>\n",
       "      <th>gender</th>\n",
       "      <th>income_type</th>\n",
       "      <th>debt</th>\n",
       "      <th>total_income</th>\n",
       "      <th>purpose</th>\n",
       "    </tr>\n",
       "  </thead>\n",
       "  <tbody>\n",
       "  </tbody>\n",
       "</table>\n",
       "</div>"
      ],
      "text/plain": [
       "Empty DataFrame\n",
       "Columns: [children, days_employed, dob_years, education, education_id, family_status, family_status_id, gender, income_type, debt, total_income, purpose]\n",
       "Index: []"
      ]
     },
     "execution_count": 18,
     "metadata": {},
     "output_type": "execute_result"
    }
   ],
   "source": [
    "#sanity check \n",
    "credit_scores[credit_scores['children']==-1] "
   ]
  },
  {
   "cell_type": "markdown",
   "metadata": {},
   "source": [
    "Nice! We have now dealt with our missing values. Let's check out our dataframe."
   ]
  },
  {
   "cell_type": "code",
   "execution_count": 19,
   "metadata": {},
   "outputs": [
    {
     "data": {
      "text/html": [
       "<div>\n",
       "<style scoped>\n",
       "    .dataframe tbody tr th:only-of-type {\n",
       "        vertical-align: middle;\n",
       "    }\n",
       "\n",
       "    .dataframe tbody tr th {\n",
       "        vertical-align: top;\n",
       "    }\n",
       "\n",
       "    .dataframe thead th {\n",
       "        text-align: right;\n",
       "    }\n",
       "</style>\n",
       "<table border=\"1\" class=\"dataframe\">\n",
       "  <thead>\n",
       "    <tr style=\"text-align: right;\">\n",
       "      <th></th>\n",
       "      <th>children</th>\n",
       "      <th>days_employed</th>\n",
       "      <th>dob_years</th>\n",
       "      <th>education</th>\n",
       "      <th>education_id</th>\n",
       "      <th>family_status</th>\n",
       "      <th>family_status_id</th>\n",
       "      <th>gender</th>\n",
       "      <th>income_type</th>\n",
       "      <th>debt</th>\n",
       "      <th>total_income</th>\n",
       "      <th>purpose</th>\n",
       "    </tr>\n",
       "  </thead>\n",
       "  <tbody>\n",
       "    <tr>\n",
       "      <th>0</th>\n",
       "      <td>1</td>\n",
       "      <td>8437.673028</td>\n",
       "      <td>42</td>\n",
       "      <td>bachelor's degree</td>\n",
       "      <td>0</td>\n",
       "      <td>married</td>\n",
       "      <td>0</td>\n",
       "      <td>F</td>\n",
       "      <td>employee</td>\n",
       "      <td>0</td>\n",
       "      <td>40620.102</td>\n",
       "      <td>purchase of the house</td>\n",
       "    </tr>\n",
       "    <tr>\n",
       "      <th>1</th>\n",
       "      <td>1</td>\n",
       "      <td>4024.803754</td>\n",
       "      <td>36</td>\n",
       "      <td>secondary education</td>\n",
       "      <td>1</td>\n",
       "      <td>married</td>\n",
       "      <td>0</td>\n",
       "      <td>F</td>\n",
       "      <td>employee</td>\n",
       "      <td>0</td>\n",
       "      <td>17932.802</td>\n",
       "      <td>car purchase</td>\n",
       "    </tr>\n",
       "    <tr>\n",
       "      <th>2</th>\n",
       "      <td>0</td>\n",
       "      <td>5623.422610</td>\n",
       "      <td>33</td>\n",
       "      <td>Secondary Education</td>\n",
       "      <td>1</td>\n",
       "      <td>married</td>\n",
       "      <td>0</td>\n",
       "      <td>M</td>\n",
       "      <td>employee</td>\n",
       "      <td>0</td>\n",
       "      <td>23341.752</td>\n",
       "      <td>purchase of the house</td>\n",
       "    </tr>\n",
       "    <tr>\n",
       "      <th>3</th>\n",
       "      <td>3</td>\n",
       "      <td>4124.747207</td>\n",
       "      <td>32</td>\n",
       "      <td>secondary education</td>\n",
       "      <td>1</td>\n",
       "      <td>married</td>\n",
       "      <td>0</td>\n",
       "      <td>M</td>\n",
       "      <td>employee</td>\n",
       "      <td>0</td>\n",
       "      <td>42820.568</td>\n",
       "      <td>supplementary education</td>\n",
       "    </tr>\n",
       "    <tr>\n",
       "      <th>4</th>\n",
       "      <td>0</td>\n",
       "      <td>340266.072047</td>\n",
       "      <td>53</td>\n",
       "      <td>secondary education</td>\n",
       "      <td>1</td>\n",
       "      <td>civil partnership</td>\n",
       "      <td>1</td>\n",
       "      <td>F</td>\n",
       "      <td>retiree</td>\n",
       "      <td>0</td>\n",
       "      <td>25378.572</td>\n",
       "      <td>to have a wedding</td>\n",
       "    </tr>\n",
       "  </tbody>\n",
       "</table>\n",
       "</div>"
      ],
      "text/plain": [
       "   children  days_employed  dob_years            education  education_id  \\\n",
       "0         1    8437.673028         42    bachelor's degree             0   \n",
       "1         1    4024.803754         36  secondary education             1   \n",
       "2         0    5623.422610         33  Secondary Education             1   \n",
       "3         3    4124.747207         32  secondary education             1   \n",
       "4         0  340266.072047         53  secondary education             1   \n",
       "\n",
       "       family_status  family_status_id gender income_type  debt  total_income  \\\n",
       "0            married                 0      F    employee     0     40620.102   \n",
       "1            married                 0      F    employee     0     17932.802   \n",
       "2            married                 0      M    employee     0     23341.752   \n",
       "3            married                 0      M    employee     0     42820.568   \n",
       "4  civil partnership                 1      F     retiree     0     25378.572   \n",
       "\n",
       "                   purpose  \n",
       "0    purchase of the house  \n",
       "1             car purchase  \n",
       "2    purchase of the house  \n",
       "3  supplementary education  \n",
       "4        to have a wedding  "
      ]
     },
     "execution_count": 19,
     "metadata": {},
     "output_type": "execute_result"
    }
   ],
   "source": [
    "credit_scores.head()"
   ]
  },
  {
   "cell_type": "code",
   "execution_count": 20,
   "metadata": {},
   "outputs": [
    {
     "name": "stdout",
     "output_type": "stream",
     "text": [
      "<class 'pandas.core.frame.DataFrame'>\n",
      "RangeIndex: 21525 entries, 0 to 21524\n",
      "Data columns (total 12 columns):\n",
      " #   Column            Non-Null Count  Dtype  \n",
      "---  ------            --------------  -----  \n",
      " 0   children          21525 non-null  int64  \n",
      " 1   days_employed     21525 non-null  float64\n",
      " 2   dob_years         21525 non-null  int64  \n",
      " 3   education         21525 non-null  object \n",
      " 4   education_id      21525 non-null  int64  \n",
      " 5   family_status     21525 non-null  object \n",
      " 6   family_status_id  21525 non-null  int64  \n",
      " 7   gender            21525 non-null  object \n",
      " 8   income_type       21525 non-null  object \n",
      " 9   debt              21525 non-null  int64  \n",
      " 10  total_income      21525 non-null  float64\n",
      " 11  purpose           21525 non-null  object \n",
      "dtypes: float64(2), int64(5), object(5)\n",
      "memory usage: 2.0+ MB\n"
     ]
    }
   ],
   "source": [
    "credit_scores.info()"
   ]
  },
  {
   "cell_type": "markdown",
   "metadata": {},
   "source": [
    "### Conclusion"
   ]
  },
  {
   "cell_type": "markdown",
   "metadata": {},
   "source": [
    "That was a lot. We first checked out our null values column and found out that those missing values where all on the same row. Unfortunately, possible reasons for the null values are not concrete as most have marked down employed as their income type. As such, we replace the missing values with the median and mean for the days_employed and total_income column, respectively. From there, we created a function that checked for common indicator of missing values. We found that the children column contained a -1 values which is impossible and thus went on to replace those values with it's mean. "
   ]
  },
  {
   "cell_type": "markdown",
   "metadata": {},
   "source": [
    "### Data Type Replacement"
   ]
  },
  {
   "cell_type": "markdown",
   "metadata": {},
   "source": [
    "As we previously mentioned, the days_employed float type needs to be dealt with as it's not logical to have in that format. So let's go ahead and use the .apply() method on that column and pass in a lambdas function that will convert it into an integer. "
   ]
  },
  {
   "cell_type": "code",
   "execution_count": 21,
   "metadata": {},
   "outputs": [],
   "source": [
    "# The lambdas function will take the value of each row in the column and convert it into an integer\n",
    "# Just in case we get an error, we'll convert it into a numpy null value.\n",
    "credit_scores['days_employed'] = credit_scores['days_employed'].apply(\n",
    "    lambda x: int(x) if type(x) == float else np.nan)"
   ]
  },
  {
   "cell_type": "markdown",
   "metadata": {},
   "source": [
    "Now let's check if the code encountered any errors."
   ]
  },
  {
   "cell_type": "code",
   "execution_count": 22,
   "metadata": {},
   "outputs": [
    {
     "data": {
      "text/html": [
       "<div>\n",
       "<style scoped>\n",
       "    .dataframe tbody tr th:only-of-type {\n",
       "        vertical-align: middle;\n",
       "    }\n",
       "\n",
       "    .dataframe tbody tr th {\n",
       "        vertical-align: top;\n",
       "    }\n",
       "\n",
       "    .dataframe thead th {\n",
       "        text-align: right;\n",
       "    }\n",
       "</style>\n",
       "<table border=\"1\" class=\"dataframe\">\n",
       "  <thead>\n",
       "    <tr style=\"text-align: right;\">\n",
       "      <th></th>\n",
       "      <th>children</th>\n",
       "      <th>days_employed</th>\n",
       "      <th>dob_years</th>\n",
       "      <th>education</th>\n",
       "      <th>education_id</th>\n",
       "      <th>family_status</th>\n",
       "      <th>family_status_id</th>\n",
       "      <th>gender</th>\n",
       "      <th>income_type</th>\n",
       "      <th>debt</th>\n",
       "      <th>total_income</th>\n",
       "      <th>purpose</th>\n",
       "    </tr>\n",
       "  </thead>\n",
       "  <tbody>\n",
       "  </tbody>\n",
       "</table>\n",
       "</div>"
      ],
      "text/plain": [
       "Empty DataFrame\n",
       "Columns: [children, days_employed, dob_years, education, education_id, family_status, family_status_id, gender, income_type, debt, total_income, purpose]\n",
       "Index: []"
      ]
     },
     "execution_count": 22,
     "metadata": {},
     "output_type": "execute_result"
    }
   ],
   "source": [
    "credit_scores[credit_scores['days_employed'].isna()==True]"
   ]
  },
  {
   "cell_type": "markdown",
   "metadata": {},
   "source": [
    "Eveything looks good! Let's check out out daframe now. "
   ]
  },
  {
   "cell_type": "code",
   "execution_count": 23,
   "metadata": {},
   "outputs": [
    {
     "data": {
      "text/html": [
       "<div>\n",
       "<style scoped>\n",
       "    .dataframe tbody tr th:only-of-type {\n",
       "        vertical-align: middle;\n",
       "    }\n",
       "\n",
       "    .dataframe tbody tr th {\n",
       "        vertical-align: top;\n",
       "    }\n",
       "\n",
       "    .dataframe thead th {\n",
       "        text-align: right;\n",
       "    }\n",
       "</style>\n",
       "<table border=\"1\" class=\"dataframe\">\n",
       "  <thead>\n",
       "    <tr style=\"text-align: right;\">\n",
       "      <th></th>\n",
       "      <th>children</th>\n",
       "      <th>days_employed</th>\n",
       "      <th>dob_years</th>\n",
       "      <th>education</th>\n",
       "      <th>education_id</th>\n",
       "      <th>family_status</th>\n",
       "      <th>family_status_id</th>\n",
       "      <th>gender</th>\n",
       "      <th>income_type</th>\n",
       "      <th>debt</th>\n",
       "      <th>total_income</th>\n",
       "      <th>purpose</th>\n",
       "    </tr>\n",
       "  </thead>\n",
       "  <tbody>\n",
       "    <tr>\n",
       "      <th>0</th>\n",
       "      <td>1</td>\n",
       "      <td>8437</td>\n",
       "      <td>42</td>\n",
       "      <td>bachelor's degree</td>\n",
       "      <td>0</td>\n",
       "      <td>married</td>\n",
       "      <td>0</td>\n",
       "      <td>F</td>\n",
       "      <td>employee</td>\n",
       "      <td>0</td>\n",
       "      <td>40620.102</td>\n",
       "      <td>purchase of the house</td>\n",
       "    </tr>\n",
       "    <tr>\n",
       "      <th>1</th>\n",
       "      <td>1</td>\n",
       "      <td>4024</td>\n",
       "      <td>36</td>\n",
       "      <td>secondary education</td>\n",
       "      <td>1</td>\n",
       "      <td>married</td>\n",
       "      <td>0</td>\n",
       "      <td>F</td>\n",
       "      <td>employee</td>\n",
       "      <td>0</td>\n",
       "      <td>17932.802</td>\n",
       "      <td>car purchase</td>\n",
       "    </tr>\n",
       "    <tr>\n",
       "      <th>2</th>\n",
       "      <td>0</td>\n",
       "      <td>5623</td>\n",
       "      <td>33</td>\n",
       "      <td>Secondary Education</td>\n",
       "      <td>1</td>\n",
       "      <td>married</td>\n",
       "      <td>0</td>\n",
       "      <td>M</td>\n",
       "      <td>employee</td>\n",
       "      <td>0</td>\n",
       "      <td>23341.752</td>\n",
       "      <td>purchase of the house</td>\n",
       "    </tr>\n",
       "    <tr>\n",
       "      <th>3</th>\n",
       "      <td>3</td>\n",
       "      <td>4124</td>\n",
       "      <td>32</td>\n",
       "      <td>secondary education</td>\n",
       "      <td>1</td>\n",
       "      <td>married</td>\n",
       "      <td>0</td>\n",
       "      <td>M</td>\n",
       "      <td>employee</td>\n",
       "      <td>0</td>\n",
       "      <td>42820.568</td>\n",
       "      <td>supplementary education</td>\n",
       "    </tr>\n",
       "    <tr>\n",
       "      <th>4</th>\n",
       "      <td>0</td>\n",
       "      <td>340266</td>\n",
       "      <td>53</td>\n",
       "      <td>secondary education</td>\n",
       "      <td>1</td>\n",
       "      <td>civil partnership</td>\n",
       "      <td>1</td>\n",
       "      <td>F</td>\n",
       "      <td>retiree</td>\n",
       "      <td>0</td>\n",
       "      <td>25378.572</td>\n",
       "      <td>to have a wedding</td>\n",
       "    </tr>\n",
       "  </tbody>\n",
       "</table>\n",
       "</div>"
      ],
      "text/plain": [
       "   children  days_employed  dob_years            education  education_id  \\\n",
       "0         1           8437         42    bachelor's degree             0   \n",
       "1         1           4024         36  secondary education             1   \n",
       "2         0           5623         33  Secondary Education             1   \n",
       "3         3           4124         32  secondary education             1   \n",
       "4         0         340266         53  secondary education             1   \n",
       "\n",
       "       family_status  family_status_id gender income_type  debt  total_income  \\\n",
       "0            married                 0      F    employee     0     40620.102   \n",
       "1            married                 0      F    employee     0     17932.802   \n",
       "2            married                 0      M    employee     0     23341.752   \n",
       "3            married                 0      M    employee     0     42820.568   \n",
       "4  civil partnership                 1      F     retiree     0     25378.572   \n",
       "\n",
       "                   purpose  \n",
       "0    purchase of the house  \n",
       "1             car purchase  \n",
       "2    purchase of the house  \n",
       "3  supplementary education  \n",
       "4        to have a wedding  "
      ]
     },
     "execution_count": 23,
     "metadata": {},
     "output_type": "execute_result"
    }
   ],
   "source": [
    "credit_scores.head()"
   ]
  },
  {
   "cell_type": "markdown",
   "metadata": {},
   "source": [
    "### Conclusion"
   ]
  },
  {
   "cell_type": "markdown",
   "metadata": {},
   "source": [
    "Cool. Now that our data type values are in the format them to be in we're now ready for our next step: processing the duplicates in our dataset. "
   ]
  },
  {
   "cell_type": "markdown",
   "metadata": {},
   "source": [
    "### Processing duplicates"
   ]
  },
  {
   "cell_type": "markdown",
   "metadata": {},
   "source": [
    "Before we can proceed to process the duplicates in our dataframe, we need to ensure that our data is correct: explain how you need to ensure that the education and family status column are dropped. As they convey the same information. Make our duplicate process more accurate and it will save us some space. \n",
    "\n",
    "> Let's first start by confirming that both the id and the corresponding column label match for the education columns. We'll use the .apply() function to apply the lambda function in order to lower all the strings making our data more uniform. After that, let's create a tuple that contains the values from the education and corresponding education_id values. We'll make it into a set to retrieve the unique values that we get. Please note that this will be used as key for future reference. "
   ]
  },
  {
   "cell_type": "code",
   "execution_count": 24,
   "metadata": {},
   "outputs": [],
   "source": [
    "# lowercase string each value in the education column\n",
    "credit_scores['education'] = credit_scores['education'].apply(\n",
    "    lambda x: x.lower())\n",
    "\n",
    "# combine the values in education and it's corresponding id column values into a tuple object\n",
    "# then convert the tuple items into a set to retrieve unique combination values\n",
    "ordering = set(\n",
    "    tuple((x, y) for x, y in zip(credit_scores['education'],\n",
    "                                 credit_scores['education_id'])))\n",
    "\n",
    "# then sort by the education_id values from the ordering variable tuples by passing it as a lambda fucntion\n",
    "education_key = sorted(list(ordering), key=lambda order: order[1])"
   ]
  },
  {
   "cell_type": "code",
   "execution_count": 25,
   "metadata": {
    "scrolled": true
   },
   "outputs": [
    {
     "data": {
      "text/plain": [
       "[(\"bachelor's degree\", 0),\n",
       " ('secondary education', 1),\n",
       " ('some college', 2),\n",
       " ('primary education', 3),\n",
       " ('graduate degree', 4)]"
      ]
     },
     "execution_count": 25,
     "metadata": {},
     "output_type": "execute_result"
    }
   ],
   "source": [
    "education_key"
   ]
  },
  {
   "cell_type": "markdown",
   "metadata": {},
   "source": [
    "Nice. So it seems like our values from the education column are in good shape. Let's do the same with the family_status column."
   ]
  },
  {
   "cell_type": "code",
   "execution_count": 26,
   "metadata": {},
   "outputs": [
    {
     "data": {
      "text/plain": [
       "[('married', 0),\n",
       " ('civil partnership', 1),\n",
       " ('widow / widower', 2),\n",
       " ('divorced', 3),\n",
       " ('unmarried', 4)]"
      ]
     },
     "execution_count": 26,
     "metadata": {},
     "output_type": "execute_result"
    }
   ],
   "source": [
    "credit_scores['family_status'] = credit_scores['family_status'].apply(lambda x: x.lower())\n",
    "order2 = set(tuple((x,y) for x,y in zip(credit_scores['family_status'],credit_scores['family_status_id'])))\n",
    "family_key = sorted(list(order2),key= lambda order: order[1])\n",
    "family_key"
   ]
  },
  {
   "cell_type": "markdown",
   "metadata": {},
   "source": [
    "Now that we know our data values are correctly labeled as shown by the  set function, we can confidently create a new table and keep only the columns without those two columns. Let's do this by printing out the columns in the credit_scores table and then copying and pasting into a new variable. We'll cut the two columns from that variable and then "
   ]
  },
  {
   "cell_type": "code",
   "execution_count": 27,
   "metadata": {},
   "outputs": [
    {
     "data": {
      "text/plain": [
       "['children',\n",
       " 'days_employed',\n",
       " 'dob_years',\n",
       " 'education',\n",
       " 'education_id',\n",
       " 'family_status',\n",
       " 'family_status_id',\n",
       " 'gender',\n",
       " 'income_type',\n",
       " 'debt',\n",
       " 'total_income',\n",
       " 'purpose']"
      ]
     },
     "execution_count": 27,
     "metadata": {},
     "output_type": "execute_result"
    }
   ],
   "source": [
    "credit_scores.columns.to_list()"
   ]
  },
  {
   "cell_type": "code",
   "execution_count": 28,
   "metadata": {},
   "outputs": [],
   "source": [
    "#copy & paste columns and then keep the column values of interest\n",
    "columns = [\n",
    "    'children', 'days_employed', 'dob_years', 'education_id',\n",
    "    'family_status_id', 'gender', 'income_type', 'debt', 'total_income',\n",
    "    'purpose'\n",
    "]"
   ]
  },
  {
   "cell_type": "code",
   "execution_count": 29,
   "metadata": {},
   "outputs": [],
   "source": [
    "#now save the columns of interest and copy it to a new dataframe\n",
    "clean_data = credit_scores[columns]"
   ]
  },
  {
   "cell_type": "code",
   "execution_count": 30,
   "metadata": {},
   "outputs": [
    {
     "data": {
      "text/html": [
       "<div>\n",
       "<style scoped>\n",
       "    .dataframe tbody tr th:only-of-type {\n",
       "        vertical-align: middle;\n",
       "    }\n",
       "\n",
       "    .dataframe tbody tr th {\n",
       "        vertical-align: top;\n",
       "    }\n",
       "\n",
       "    .dataframe thead th {\n",
       "        text-align: right;\n",
       "    }\n",
       "</style>\n",
       "<table border=\"1\" class=\"dataframe\">\n",
       "  <thead>\n",
       "    <tr style=\"text-align: right;\">\n",
       "      <th></th>\n",
       "      <th>children</th>\n",
       "      <th>days_employed</th>\n",
       "      <th>dob_years</th>\n",
       "      <th>education_id</th>\n",
       "      <th>family_status_id</th>\n",
       "      <th>gender</th>\n",
       "      <th>income_type</th>\n",
       "      <th>debt</th>\n",
       "      <th>total_income</th>\n",
       "      <th>purpose</th>\n",
       "    </tr>\n",
       "  </thead>\n",
       "  <tbody>\n",
       "    <tr>\n",
       "      <th>0</th>\n",
       "      <td>1</td>\n",
       "      <td>8437</td>\n",
       "      <td>42</td>\n",
       "      <td>0</td>\n",
       "      <td>0</td>\n",
       "      <td>F</td>\n",
       "      <td>employee</td>\n",
       "      <td>0</td>\n",
       "      <td>40620.102</td>\n",
       "      <td>purchase of the house</td>\n",
       "    </tr>\n",
       "    <tr>\n",
       "      <th>1</th>\n",
       "      <td>1</td>\n",
       "      <td>4024</td>\n",
       "      <td>36</td>\n",
       "      <td>1</td>\n",
       "      <td>0</td>\n",
       "      <td>F</td>\n",
       "      <td>employee</td>\n",
       "      <td>0</td>\n",
       "      <td>17932.802</td>\n",
       "      <td>car purchase</td>\n",
       "    </tr>\n",
       "    <tr>\n",
       "      <th>2</th>\n",
       "      <td>0</td>\n",
       "      <td>5623</td>\n",
       "      <td>33</td>\n",
       "      <td>1</td>\n",
       "      <td>0</td>\n",
       "      <td>M</td>\n",
       "      <td>employee</td>\n",
       "      <td>0</td>\n",
       "      <td>23341.752</td>\n",
       "      <td>purchase of the house</td>\n",
       "    </tr>\n",
       "    <tr>\n",
       "      <th>3</th>\n",
       "      <td>3</td>\n",
       "      <td>4124</td>\n",
       "      <td>32</td>\n",
       "      <td>1</td>\n",
       "      <td>0</td>\n",
       "      <td>M</td>\n",
       "      <td>employee</td>\n",
       "      <td>0</td>\n",
       "      <td>42820.568</td>\n",
       "      <td>supplementary education</td>\n",
       "    </tr>\n",
       "    <tr>\n",
       "      <th>4</th>\n",
       "      <td>0</td>\n",
       "      <td>340266</td>\n",
       "      <td>53</td>\n",
       "      <td>1</td>\n",
       "      <td>1</td>\n",
       "      <td>F</td>\n",
       "      <td>retiree</td>\n",
       "      <td>0</td>\n",
       "      <td>25378.572</td>\n",
       "      <td>to have a wedding</td>\n",
       "    </tr>\n",
       "  </tbody>\n",
       "</table>\n",
       "</div>"
      ],
      "text/plain": [
       "   children  days_employed  dob_years  education_id  family_status_id gender  \\\n",
       "0         1           8437         42             0                 0      F   \n",
       "1         1           4024         36             1                 0      F   \n",
       "2         0           5623         33             1                 0      M   \n",
       "3         3           4124         32             1                 0      M   \n",
       "4         0         340266         53             1                 1      F   \n",
       "\n",
       "  income_type  debt  total_income                  purpose  \n",
       "0    employee     0     40620.102    purchase of the house  \n",
       "1    employee     0     17932.802             car purchase  \n",
       "2    employee     0     23341.752    purchase of the house  \n",
       "3    employee     0     42820.568  supplementary education  \n",
       "4     retiree     0     25378.572        to have a wedding  "
      ]
     },
     "execution_count": 30,
     "metadata": {},
     "output_type": "execute_result"
    }
   ],
   "source": [
    "clean_data.head()"
   ]
  },
  {
   "cell_type": "markdown",
   "metadata": {},
   "source": [
    "Now that our values are for the most part cleaned, we can proceed to identify and drop any duplicates in our dataset. To check for duplicates, we'll be using the .duplicates() method; which returns any duplicated rows excluding the first occurrence.\n"
   ]
  },
  {
   "cell_type": "code",
   "execution_count": 31,
   "metadata": {},
   "outputs": [
    {
     "data": {
      "text/html": [
       "<div>\n",
       "<style scoped>\n",
       "    .dataframe tbody tr th:only-of-type {\n",
       "        vertical-align: middle;\n",
       "    }\n",
       "\n",
       "    .dataframe tbody tr th {\n",
       "        vertical-align: top;\n",
       "    }\n",
       "\n",
       "    .dataframe thead th {\n",
       "        text-align: right;\n",
       "    }\n",
       "</style>\n",
       "<table border=\"1\" class=\"dataframe\">\n",
       "  <thead>\n",
       "    <tr style=\"text-align: right;\">\n",
       "      <th></th>\n",
       "      <th>children</th>\n",
       "      <th>days_employed</th>\n",
       "      <th>dob_years</th>\n",
       "      <th>education_id</th>\n",
       "      <th>family_status_id</th>\n",
       "      <th>gender</th>\n",
       "      <th>income_type</th>\n",
       "      <th>debt</th>\n",
       "      <th>total_income</th>\n",
       "      <th>purpose</th>\n",
       "    </tr>\n",
       "  </thead>\n",
       "  <tbody>\n",
       "    <tr>\n",
       "      <th>2849</th>\n",
       "      <td>0</td>\n",
       "      <td>2194</td>\n",
       "      <td>41</td>\n",
       "      <td>1</td>\n",
       "      <td>0</td>\n",
       "      <td>F</td>\n",
       "      <td>employee</td>\n",
       "      <td>0</td>\n",
       "      <td>26787.568355</td>\n",
       "      <td>purchase of the house for my family</td>\n",
       "    </tr>\n",
       "    <tr>\n",
       "      <th>3290</th>\n",
       "      <td>0</td>\n",
       "      <td>2194</td>\n",
       "      <td>58</td>\n",
       "      <td>1</td>\n",
       "      <td>1</td>\n",
       "      <td>F</td>\n",
       "      <td>retiree</td>\n",
       "      <td>0</td>\n",
       "      <td>26787.568355</td>\n",
       "      <td>to have a wedding</td>\n",
       "    </tr>\n",
       "    <tr>\n",
       "      <th>4182</th>\n",
       "      <td>1</td>\n",
       "      <td>2194</td>\n",
       "      <td>34</td>\n",
       "      <td>0</td>\n",
       "      <td>1</td>\n",
       "      <td>F</td>\n",
       "      <td>employee</td>\n",
       "      <td>0</td>\n",
       "      <td>26787.568355</td>\n",
       "      <td>wedding ceremony</td>\n",
       "    </tr>\n",
       "    <tr>\n",
       "      <th>4851</th>\n",
       "      <td>0</td>\n",
       "      <td>2194</td>\n",
       "      <td>60</td>\n",
       "      <td>1</td>\n",
       "      <td>1</td>\n",
       "      <td>F</td>\n",
       "      <td>retiree</td>\n",
       "      <td>0</td>\n",
       "      <td>26787.568355</td>\n",
       "      <td>wedding ceremony</td>\n",
       "    </tr>\n",
       "    <tr>\n",
       "      <th>5557</th>\n",
       "      <td>0</td>\n",
       "      <td>2194</td>\n",
       "      <td>58</td>\n",
       "      <td>1</td>\n",
       "      <td>1</td>\n",
       "      <td>F</td>\n",
       "      <td>retiree</td>\n",
       "      <td>0</td>\n",
       "      <td>26787.568355</td>\n",
       "      <td>to have a wedding</td>\n",
       "    </tr>\n",
       "  </tbody>\n",
       "</table>\n",
       "</div>"
      ],
      "text/plain": [
       "      children  days_employed  dob_years  education_id  family_status_id  \\\n",
       "2849         0           2194         41             1                 0   \n",
       "3290         0           2194         58             1                 1   \n",
       "4182         1           2194         34             0                 1   \n",
       "4851         0           2194         60             1                 1   \n",
       "5557         0           2194         58             1                 1   \n",
       "\n",
       "     gender income_type  debt  total_income  \\\n",
       "2849      F    employee     0  26787.568355   \n",
       "3290      F     retiree     0  26787.568355   \n",
       "4182      F    employee     0  26787.568355   \n",
       "4851      F     retiree     0  26787.568355   \n",
       "5557      F     retiree     0  26787.568355   \n",
       "\n",
       "                                  purpose  \n",
       "2849  purchase of the house for my family  \n",
       "3290                    to have a wedding  \n",
       "4182                     wedding ceremony  \n",
       "4851                     wedding ceremony  \n",
       "5557                    to have a wedding  "
      ]
     },
     "execution_count": 31,
     "metadata": {},
     "output_type": "execute_result"
    }
   ],
   "source": [
    "clean_data[clean_data.duplicated()==True].head()"
   ]
  },
  {
   "cell_type": "markdown",
   "metadata": {},
   "source": [
    "A quick look at the table shows that values in the days_employed and total_income are the same. Let's see if we can  get more details regarding this via the .info() method."
   ]
  },
  {
   "cell_type": "code",
   "execution_count": 32,
   "metadata": {},
   "outputs": [
    {
     "data": {
      "text/html": [
       "<div>\n",
       "<style scoped>\n",
       "    .dataframe tbody tr th:only-of-type {\n",
       "        vertical-align: middle;\n",
       "    }\n",
       "\n",
       "    .dataframe tbody tr th {\n",
       "        vertical-align: top;\n",
       "    }\n",
       "\n",
       "    .dataframe thead th {\n",
       "        text-align: right;\n",
       "    }\n",
       "</style>\n",
       "<table border=\"1\" class=\"dataframe\">\n",
       "  <thead>\n",
       "    <tr style=\"text-align: right;\">\n",
       "      <th></th>\n",
       "      <th>children</th>\n",
       "      <th>days_employed</th>\n",
       "      <th>dob_years</th>\n",
       "      <th>education_id</th>\n",
       "      <th>family_status_id</th>\n",
       "      <th>gender</th>\n",
       "      <th>income_type</th>\n",
       "      <th>debt</th>\n",
       "      <th>total_income</th>\n",
       "      <th>purpose</th>\n",
       "    </tr>\n",
       "  </thead>\n",
       "  <tbody>\n",
       "    <tr>\n",
       "      <th>count</th>\n",
       "      <td>71.000000</td>\n",
       "      <td>71.0</td>\n",
       "      <td>71.000000</td>\n",
       "      <td>71.000000</td>\n",
       "      <td>71.000000</td>\n",
       "      <td>71</td>\n",
       "      <td>71</td>\n",
       "      <td>71.0</td>\n",
       "      <td>7.100000e+01</td>\n",
       "      <td>71</td>\n",
       "    </tr>\n",
       "    <tr>\n",
       "      <th>unique</th>\n",
       "      <td>NaN</td>\n",
       "      <td>NaN</td>\n",
       "      <td>NaN</td>\n",
       "      <td>NaN</td>\n",
       "      <td>NaN</td>\n",
       "      <td>2</td>\n",
       "      <td>4</td>\n",
       "      <td>NaN</td>\n",
       "      <td>NaN</td>\n",
       "      <td>29</td>\n",
       "    </tr>\n",
       "    <tr>\n",
       "      <th>top</th>\n",
       "      <td>NaN</td>\n",
       "      <td>NaN</td>\n",
       "      <td>NaN</td>\n",
       "      <td>NaN</td>\n",
       "      <td>NaN</td>\n",
       "      <td>F</td>\n",
       "      <td>employee</td>\n",
       "      <td>NaN</td>\n",
       "      <td>NaN</td>\n",
       "      <td>to have a wedding</td>\n",
       "    </tr>\n",
       "    <tr>\n",
       "      <th>freq</th>\n",
       "      <td>NaN</td>\n",
       "      <td>NaN</td>\n",
       "      <td>NaN</td>\n",
       "      <td>NaN</td>\n",
       "      <td>NaN</td>\n",
       "      <td>62</td>\n",
       "      <td>35</td>\n",
       "      <td>NaN</td>\n",
       "      <td>NaN</td>\n",
       "      <td>9</td>\n",
       "    </tr>\n",
       "    <tr>\n",
       "      <th>mean</th>\n",
       "      <td>0.225352</td>\n",
       "      <td>2194.0</td>\n",
       "      <td>49.985915</td>\n",
       "      <td>0.859155</td>\n",
       "      <td>0.563380</td>\n",
       "      <td>NaN</td>\n",
       "      <td>NaN</td>\n",
       "      <td>0.0</td>\n",
       "      <td>2.678757e+04</td>\n",
       "      <td>NaN</td>\n",
       "    </tr>\n",
       "    <tr>\n",
       "      <th>std</th>\n",
       "      <td>0.512617</td>\n",
       "      <td>0.0</td>\n",
       "      <td>11.991060</td>\n",
       "      <td>0.350338</td>\n",
       "      <td>0.890143</td>\n",
       "      <td>NaN</td>\n",
       "      <td>NaN</td>\n",
       "      <td>0.0</td>\n",
       "      <td>2.198323e-11</td>\n",
       "      <td>NaN</td>\n",
       "    </tr>\n",
       "    <tr>\n",
       "      <th>min</th>\n",
       "      <td>0.000000</td>\n",
       "      <td>2194.0</td>\n",
       "      <td>23.000000</td>\n",
       "      <td>0.000000</td>\n",
       "      <td>0.000000</td>\n",
       "      <td>NaN</td>\n",
       "      <td>NaN</td>\n",
       "      <td>0.0</td>\n",
       "      <td>2.678757e+04</td>\n",
       "      <td>NaN</td>\n",
       "    </tr>\n",
       "    <tr>\n",
       "      <th>25%</th>\n",
       "      <td>0.000000</td>\n",
       "      <td>2194.0</td>\n",
       "      <td>41.000000</td>\n",
       "      <td>1.000000</td>\n",
       "      <td>0.000000</td>\n",
       "      <td>NaN</td>\n",
       "      <td>NaN</td>\n",
       "      <td>0.0</td>\n",
       "      <td>2.678757e+04</td>\n",
       "      <td>NaN</td>\n",
       "    </tr>\n",
       "    <tr>\n",
       "      <th>50%</th>\n",
       "      <td>0.000000</td>\n",
       "      <td>2194.0</td>\n",
       "      <td>54.000000</td>\n",
       "      <td>1.000000</td>\n",
       "      <td>0.000000</td>\n",
       "      <td>NaN</td>\n",
       "      <td>NaN</td>\n",
       "      <td>0.0</td>\n",
       "      <td>2.678757e+04</td>\n",
       "      <td>NaN</td>\n",
       "    </tr>\n",
       "    <tr>\n",
       "      <th>75%</th>\n",
       "      <td>0.000000</td>\n",
       "      <td>2194.0</td>\n",
       "      <td>58.500000</td>\n",
       "      <td>1.000000</td>\n",
       "      <td>1.000000</td>\n",
       "      <td>NaN</td>\n",
       "      <td>NaN</td>\n",
       "      <td>0.0</td>\n",
       "      <td>2.678757e+04</td>\n",
       "      <td>NaN</td>\n",
       "    </tr>\n",
       "    <tr>\n",
       "      <th>max</th>\n",
       "      <td>2.000000</td>\n",
       "      <td>2194.0</td>\n",
       "      <td>71.000000</td>\n",
       "      <td>1.000000</td>\n",
       "      <td>4.000000</td>\n",
       "      <td>NaN</td>\n",
       "      <td>NaN</td>\n",
       "      <td>0.0</td>\n",
       "      <td>2.678757e+04</td>\n",
       "      <td>NaN</td>\n",
       "    </tr>\n",
       "  </tbody>\n",
       "</table>\n",
       "</div>"
      ],
      "text/plain": [
       "         children  days_employed  dob_years  education_id  family_status_id  \\\n",
       "count   71.000000           71.0  71.000000     71.000000         71.000000   \n",
       "unique        NaN            NaN        NaN           NaN               NaN   \n",
       "top           NaN            NaN        NaN           NaN               NaN   \n",
       "freq          NaN            NaN        NaN           NaN               NaN   \n",
       "mean     0.225352         2194.0  49.985915      0.859155          0.563380   \n",
       "std      0.512617            0.0  11.991060      0.350338          0.890143   \n",
       "min      0.000000         2194.0  23.000000      0.000000          0.000000   \n",
       "25%      0.000000         2194.0  41.000000      1.000000          0.000000   \n",
       "50%      0.000000         2194.0  54.000000      1.000000          0.000000   \n",
       "75%      0.000000         2194.0  58.500000      1.000000          1.000000   \n",
       "max      2.000000         2194.0  71.000000      1.000000          4.000000   \n",
       "\n",
       "       gender income_type  debt  total_income            purpose  \n",
       "count      71          71  71.0  7.100000e+01                 71  \n",
       "unique      2           4   NaN           NaN                 29  \n",
       "top         F    employee   NaN           NaN  to have a wedding  \n",
       "freq       62          35   NaN           NaN                  9  \n",
       "mean      NaN         NaN   0.0  2.678757e+04                NaN  \n",
       "std       NaN         NaN   0.0  2.198323e-11                NaN  \n",
       "min       NaN         NaN   0.0  2.678757e+04                NaN  \n",
       "25%       NaN         NaN   0.0  2.678757e+04                NaN  \n",
       "50%       NaN         NaN   0.0  2.678757e+04                NaN  \n",
       "75%       NaN         NaN   0.0  2.678757e+04                NaN  \n",
       "max       NaN         NaN   0.0  2.678757e+04                NaN  "
      ]
     },
     "execution_count": 32,
     "metadata": {},
     "output_type": "execute_result"
    }
   ],
   "source": [
    "clean_data[clean_data.duplicated() ==True].describe(include='all')"
   ]
  },
  {
   "cell_type": "markdown",
   "metadata": {},
   "source": [
    "Let's call the variables that we made to insert into our null values earlier in the preprocessing procedure. We want to confirm that these are the same values as the ones above. "
   ]
  },
  {
   "cell_type": "code",
   "execution_count": 33,
   "metadata": {},
   "outputs": [
    {
     "name": "stdout",
     "output_type": "stream",
     "text": [
      "2194.220566878695\n",
      "26787.56835465871\n"
     ]
    }
   ],
   "source": [
    "print(employed_median)\n",
    "print(income_mean)"
   ]
  },
  {
   "cell_type": "markdown",
   "metadata": {},
   "source": [
    "So it seems like that the duplicated rows in our dataset seem to be coming from those who had the days_employed and total_income null values. A possible reason for this might be a software issue that mistakenly did not delete the duplicated cells when updating its information. We'll send another follow-up email to notify the person in charge of the dataset of our hypothesis. "
   ]
  },
  {
   "cell_type": "markdown",
   "metadata": {},
   "source": [
    "Now let's only keep the rows that aren't labeled as a duplicate by using the .drop_duplicates() function which will delete the duplicate rows on the above cell. We'll save this to our original dataset to keep the changes."
   ]
  },
  {
   "cell_type": "code",
   "execution_count": 34,
   "metadata": {},
   "outputs": [
    {
     "name": "stdout",
     "output_type": "stream",
     "text": [
      "<class 'pandas.core.frame.DataFrame'>\n",
      "Int64Index: 21454 entries, 0 to 21524\n",
      "Data columns (total 10 columns):\n",
      " #   Column            Non-Null Count  Dtype  \n",
      "---  ------            --------------  -----  \n",
      " 0   children          21454 non-null  int64  \n",
      " 1   days_employed     21454 non-null  int64  \n",
      " 2   dob_years         21454 non-null  int64  \n",
      " 3   education_id      21454 non-null  int64  \n",
      " 4   family_status_id  21454 non-null  int64  \n",
      " 5   gender            21454 non-null  object \n",
      " 6   income_type       21454 non-null  object \n",
      " 7   debt              21454 non-null  int64  \n",
      " 8   total_income      21454 non-null  float64\n",
      " 9   purpose           21454 non-null  object \n",
      "dtypes: float64(1), int64(6), object(3)\n",
      "memory usage: 1.8+ MB\n"
     ]
    },
    {
     "name": "stderr",
     "output_type": "stream",
     "text": [
      "C:\\Users\\garci\\Anaconda3\\lib\\site-packages\\ipykernel_launcher.py:3: SettingWithCopyWarning: \n",
      "A value is trying to be set on a copy of a slice from a DataFrame\n",
      "\n",
      "See the caveats in the documentation: https://pandas.pydata.org/pandas-docs/stable/user_guide/indexing.html#returning-a-view-versus-a-copy\n",
      "  This is separate from the ipykernel package so we can avoid doing imports until\n"
     ]
    }
   ],
   "source": [
    "#drop all duplicates and keep only the first occurences\n",
    "clean_data.drop_duplicates(\n",
    "    inplace=True)  \n",
    "\n",
    "#reset index to reflect the changes from the dropped duplicate rows\n",
    "clean_data.reset_index(\n",
    "    drop=True\n",
    ")  \n",
    "clean_data.info()"
   ]
  },
  {
   "cell_type": "code",
   "execution_count": 35,
   "metadata": {},
   "outputs": [
    {
     "data": {
      "text/html": [
       "<div>\n",
       "<style scoped>\n",
       "    .dataframe tbody tr th:only-of-type {\n",
       "        vertical-align: middle;\n",
       "    }\n",
       "\n",
       "    .dataframe tbody tr th {\n",
       "        vertical-align: top;\n",
       "    }\n",
       "\n",
       "    .dataframe thead th {\n",
       "        text-align: right;\n",
       "    }\n",
       "</style>\n",
       "<table border=\"1\" class=\"dataframe\">\n",
       "  <thead>\n",
       "    <tr style=\"text-align: right;\">\n",
       "      <th></th>\n",
       "      <th>children</th>\n",
       "      <th>days_employed</th>\n",
       "      <th>dob_years</th>\n",
       "      <th>education_id</th>\n",
       "      <th>family_status_id</th>\n",
       "      <th>gender</th>\n",
       "      <th>income_type</th>\n",
       "      <th>debt</th>\n",
       "      <th>total_income</th>\n",
       "      <th>purpose</th>\n",
       "    </tr>\n",
       "  </thead>\n",
       "  <tbody>\n",
       "    <tr>\n",
       "      <th>0</th>\n",
       "      <td>1</td>\n",
       "      <td>8437</td>\n",
       "      <td>42</td>\n",
       "      <td>0</td>\n",
       "      <td>0</td>\n",
       "      <td>F</td>\n",
       "      <td>employee</td>\n",
       "      <td>0</td>\n",
       "      <td>40620.102</td>\n",
       "      <td>purchase of the house</td>\n",
       "    </tr>\n",
       "    <tr>\n",
       "      <th>1</th>\n",
       "      <td>1</td>\n",
       "      <td>4024</td>\n",
       "      <td>36</td>\n",
       "      <td>1</td>\n",
       "      <td>0</td>\n",
       "      <td>F</td>\n",
       "      <td>employee</td>\n",
       "      <td>0</td>\n",
       "      <td>17932.802</td>\n",
       "      <td>car purchase</td>\n",
       "    </tr>\n",
       "    <tr>\n",
       "      <th>2</th>\n",
       "      <td>0</td>\n",
       "      <td>5623</td>\n",
       "      <td>33</td>\n",
       "      <td>1</td>\n",
       "      <td>0</td>\n",
       "      <td>M</td>\n",
       "      <td>employee</td>\n",
       "      <td>0</td>\n",
       "      <td>23341.752</td>\n",
       "      <td>purchase of the house</td>\n",
       "    </tr>\n",
       "    <tr>\n",
       "      <th>3</th>\n",
       "      <td>3</td>\n",
       "      <td>4124</td>\n",
       "      <td>32</td>\n",
       "      <td>1</td>\n",
       "      <td>0</td>\n",
       "      <td>M</td>\n",
       "      <td>employee</td>\n",
       "      <td>0</td>\n",
       "      <td>42820.568</td>\n",
       "      <td>supplementary education</td>\n",
       "    </tr>\n",
       "    <tr>\n",
       "      <th>4</th>\n",
       "      <td>0</td>\n",
       "      <td>340266</td>\n",
       "      <td>53</td>\n",
       "      <td>1</td>\n",
       "      <td>1</td>\n",
       "      <td>F</td>\n",
       "      <td>retiree</td>\n",
       "      <td>0</td>\n",
       "      <td>25378.572</td>\n",
       "      <td>to have a wedding</td>\n",
       "    </tr>\n",
       "  </tbody>\n",
       "</table>\n",
       "</div>"
      ],
      "text/plain": [
       "   children  days_employed  dob_years  education_id  family_status_id gender  \\\n",
       "0         1           8437         42             0                 0      F   \n",
       "1         1           4024         36             1                 0      F   \n",
       "2         0           5623         33             1                 0      M   \n",
       "3         3           4124         32             1                 0      M   \n",
       "4         0         340266         53             1                 1      F   \n",
       "\n",
       "  income_type  debt  total_income                  purpose  \n",
       "0    employee     0     40620.102    purchase of the house  \n",
       "1    employee     0     17932.802             car purchase  \n",
       "2    employee     0     23341.752    purchase of the house  \n",
       "3    employee     0     42820.568  supplementary education  \n",
       "4     retiree     0     25378.572        to have a wedding  "
      ]
     },
     "execution_count": 35,
     "metadata": {},
     "output_type": "execute_result"
    }
   ],
   "source": [
    "clean_data.head()"
   ]
  },
  {
   "cell_type": "markdown",
   "metadata": {},
   "source": [
    "### Conclusion"
   ]
  },
  {
   "cell_type": "markdown",
   "metadata": {},
   "source": [
    ">To ensure that the .duplicates() function detects duplicate values effectively, we started this process by mapping and then dropping the education and family_status columns. We left only numerical values that represent their categories as well as saved the dictionary of the numbers and their corresponding categorical values to a variable. From there we went on to observe that the duplicated rows came from the null values in our dataset. While it didn't contain all the null values, it does hint at possible issues with the software in updating information about an individual. After this, we went on and dropped the duplicated rows from our table. "
   ]
  },
  {
   "cell_type": "markdown",
   "metadata": {},
   "source": [
    "### Lemmatization"
   ]
  },
  {
   "cell_type": "markdown",
   "metadata": {},
   "source": [
    "Now given that our purpose column contains many values conveying the same information. We're interested in grouping them. So let's start by lemmatizing our words using the Python nltk library, a library used for natural language processing. Using the WordNetLemmatizer() and word_tokenize() functions will allow us to retrieve the root form of a given part of speech (noun, verb, etc.). For this task, we're interested in lemmatizing the nouns in the purpose column. "
   ]
  },
  {
   "cell_type": "markdown",
   "metadata": {},
   "source": [
    "We'll  first tokenize the word in our purpose column which basically splits a sentence into a list of words. We can then lemmatize for nouns in each row within the purpose column."
   ]
  },
  {
   "cell_type": "code",
   "execution_count": 36,
   "metadata": {
    "scrolled": false
   },
   "outputs": [],
   "source": [
    "# initialize the wordnet lemmatizer\n",
    "wordnet_lemma = WordNetLemmatizer()\n",
    "\n",
    "# apply the tokenize function to each string value rows in the purpose column\n",
    "words = clean_data['purpose'].apply(lambda x: nltk.word_tokenize(x))\n",
    "\n",
    "# apply the lemmatize fucntion where the POS is nouns\n",
    "lemmas = words.apply(\n",
    "    lambda x: [wordnet_lemma.lemmatize(w, pos='n') for w in x])"
   ]
  },
  {
   "cell_type": "markdown",
   "metadata": {},
   "source": [
    "We'll overwrite the results into the purpose column. "
   ]
  },
  {
   "cell_type": "code",
   "execution_count": 37,
   "metadata": {},
   "outputs": [
    {
     "name": "stderr",
     "output_type": "stream",
     "text": [
      "C:\\Users\\garci\\Anaconda3\\lib\\site-packages\\ipykernel_launcher.py:1: SettingWithCopyWarning: \n",
      "A value is trying to be set on a copy of a slice from a DataFrame.\n",
      "Try using .loc[row_indexer,col_indexer] = value instead\n",
      "\n",
      "See the caveats in the documentation: https://pandas.pydata.org/pandas-docs/stable/user_guide/indexing.html#returning-a-view-versus-a-copy\n",
      "  \"\"\"Entry point for launching an IPython kernel.\n"
     ]
    }
   ],
   "source": [
    "clean_data['purpose'] = lemmas"
   ]
  },
  {
   "cell_type": "markdown",
   "metadata": {},
   "source": [
    "After lemmatizing the nouns in our purpose column, We're now going to use the pos_tag() method, which is a parts of speech tagger, to only keep words that are identified as nouns. "
   ]
  },
  {
   "cell_type": "code",
   "execution_count": 38,
   "metadata": {},
   "outputs": [
    {
     "data": {
      "text/plain": [
       "[['purchase', 'house'],\n",
       " ['car', 'purchase'],\n",
       " ['purchase', 'house'],\n",
       " ['education'],\n",
       " ['wedding'],\n",
       " ['purchase', 'house'],\n",
       " ['housing', 'transaction'],\n",
       " ['education'],\n",
       " ['wedding'],\n",
       " ['purchase', 'house', 'family']]"
      ]
     },
     "execution_count": 38,
     "metadata": {},
     "output_type": "execute_result"
    }
   ],
   "source": [
    "noun = []\n",
    "\n",
    "# iterate over each row in table as a tuple with index and corresponding row value\n",
    "for index, row in clean_data.iterrows():\n",
    "    # iterate over the purpose column, create a list of words from that row which are identified as nouns\n",
    "    noun.append([word for word, pos in pos_tag(row[9]) if pos == 'NN'])\n",
    "    \n",
    "noun[:10]"
   ]
  },
  {
   "cell_type": "markdown",
   "metadata": {},
   "source": [
    "We'll save it to another column (for comparison reasons) and observe the unique values and their count from such column."
   ]
  },
  {
   "cell_type": "code",
   "execution_count": 39,
   "metadata": {},
   "outputs": [
    {
     "name": "stderr",
     "output_type": "stream",
     "text": [
      "C:\\Users\\garci\\Anaconda3\\lib\\site-packages\\ipykernel_launcher.py:1: SettingWithCopyWarning: \n",
      "A value is trying to be set on a copy of a slice from a DataFrame.\n",
      "Try using .loc[row_indexer,col_indexer] = value instead\n",
      "\n",
      "See the caveats in the documentation: https://pandas.pydata.org/pandas-docs/stable/user_guide/indexing.html#returning-a-view-versus-a-copy\n",
      "  \"\"\"Entry point for launching an IPython kernel.\n"
     ]
    },
    {
     "ename": "TypeError",
     "evalue": "unhashable type: 'list'",
     "output_type": "error",
     "traceback": [
      "\u001b[1;31m---------------------------------------------------------------------------\u001b[0m",
      "\u001b[1;31mTypeError\u001b[0m                                 Traceback (most recent call last)",
      "\u001b[1;32mpandas\\_libs\\hashtable_class_helper.pxi\u001b[0m in \u001b[0;36mpandas._libs.hashtable.PyObjectHashTable.map_locations\u001b[1;34m()\u001b[0m\n",
      "\u001b[1;31mTypeError\u001b[0m: unhashable type: 'list'"
     ]
    },
    {
     "name": "stderr",
     "output_type": "stream",
     "text": [
      "Exception ignored in: 'pandas._libs.index.IndexEngine._call_map_locations'\n",
      "Traceback (most recent call last):\n",
      "  File \"pandas\\_libs\\hashtable_class_helper.pxi\", line 1653, in pandas._libs.hashtable.PyObjectHashTable.map_locations\n",
      "TypeError: unhashable type: 'list'\n"
     ]
    },
    {
     "data": {
      "text/plain": [
       "[estate]                        2512\n",
       "[car]                           2426\n",
       "[education]                     2221\n",
       "[property]                      1903\n",
       "[wedding]                       1533\n",
       "[transaction, estate]           1277\n",
       "[purchase, house]               1266\n",
       "[wedding, ceremony]              791\n",
       "[estate, transaction]            675\n",
       "[housing, transaction]           652\n",
       "[housing]                        646\n",
       "[purchase, house, family]        638\n",
       "[construction, property]         635\n",
       "[housing, renovation]            607\n",
       "[university]                     496\n",
       "[second-hand, car, purchase]     486\n",
       "[second-hand, car]               478\n",
       "[car, purchase]                  461\n",
       "[purchase, car]                  455\n",
       "[university, education]          452\n",
       "[profile, education]             436\n",
       "[]                               408\n",
       "Name: purposes, dtype: int64"
      ]
     },
     "execution_count": 39,
     "metadata": {},
     "output_type": "execute_result"
    }
   ],
   "source": [
    "clean_data['purposes']= noun\n",
    "clean_data['purposes'].value_counts()"
   ]
  },
  {
   "cell_type": "markdown",
   "metadata": {},
   "source": [
    "It looks like the pos_tag() method was unable to identify 408 words as nouns in our row. Let's check out the purpose column to see the unique values that correspondingly have an empty value in our purposes column. This will allow us to replace the empty string with the corresponding the purpose column."
   ]
  },
  {
   "cell_type": "code",
   "execution_count": 40,
   "metadata": {},
   "outputs": [
    {
     "ename": "TypeError",
     "evalue": "unhashable type: 'list'",
     "output_type": "error",
     "traceback": [
      "\u001b[1;31m---------------------------------------------------------------------------\u001b[0m",
      "\u001b[1;31mTypeError\u001b[0m                                 Traceback (most recent call last)",
      "\u001b[1;32mpandas\\_libs\\hashtable_class_helper.pxi\u001b[0m in \u001b[0;36mpandas._libs.hashtable.PyObjectHashTable.map_locations\u001b[1;34m()\u001b[0m\n",
      "\u001b[1;31mTypeError\u001b[0m: unhashable type: 'list'"
     ]
    },
    {
     "name": "stderr",
     "output_type": "stream",
     "text": [
      "Exception ignored in: 'pandas._libs.index.IndexEngine._call_map_locations'\n",
      "Traceback (most recent call last):\n",
      "  File \"pandas\\_libs\\hashtable_class_helper.pxi\", line 1653, in pandas._libs.hashtable.PyObjectHashTable.map_locations\n",
      "TypeError: unhashable type: 'list'\n"
     ]
    },
    {
     "data": {
      "text/plain": [
       "[to, become, educated]    408\n",
       "Name: purpose, dtype: int64"
      ]
     },
     "execution_count": 40,
     "metadata": {},
     "output_type": "execute_result"
    }
   ],
   "source": [
    "(clean_data[clean_data['purposes'].str.len() == 0]['purpose']).value_counts()"
   ]
  },
  {
   "cell_type": "markdown",
   "metadata": {},
   "source": [
    "All the empty values can be explained by the above result. The pos_tag() did not count educated as a noun therefore let's go in and replace our empty string with education. "
   ]
  },
  {
   "cell_type": "code",
   "execution_count": 41,
   "metadata": {},
   "outputs": [
    {
     "name": "stderr",
     "output_type": "stream",
     "text": [
      "C:\\Users\\garci\\Anaconda3\\lib\\site-packages\\pandas\\core\\indexing.py:966: SettingWithCopyWarning: \n",
      "A value is trying to be set on a copy of a slice from a DataFrame.\n",
      "Try using .loc[row_indexer,col_indexer] = value instead\n",
      "\n",
      "See the caveats in the documentation: https://pandas.pydata.org/pandas-docs/stable/user_guide/indexing.html#returning-a-view-versus-a-copy\n",
      "  self.obj[item] = s\n"
     ]
    }
   ],
   "source": [
    "clean_data.loc[clean_data['purposes'].str.len() == 0, 'purposes'] = 'education'"
   ]
  },
  {
   "cell_type": "code",
   "execution_count": 42,
   "metadata": {},
   "outputs": [
    {
     "data": {
      "text/html": [
       "<div>\n",
       "<style scoped>\n",
       "    .dataframe tbody tr th:only-of-type {\n",
       "        vertical-align: middle;\n",
       "    }\n",
       "\n",
       "    .dataframe tbody tr th {\n",
       "        vertical-align: top;\n",
       "    }\n",
       "\n",
       "    .dataframe thead th {\n",
       "        text-align: right;\n",
       "    }\n",
       "</style>\n",
       "<table border=\"1\" class=\"dataframe\">\n",
       "  <thead>\n",
       "    <tr style=\"text-align: right;\">\n",
       "      <th></th>\n",
       "      <th>children</th>\n",
       "      <th>days_employed</th>\n",
       "      <th>dob_years</th>\n",
       "      <th>education_id</th>\n",
       "      <th>family_status_id</th>\n",
       "      <th>gender</th>\n",
       "      <th>income_type</th>\n",
       "      <th>debt</th>\n",
       "      <th>total_income</th>\n",
       "      <th>purpose</th>\n",
       "      <th>purposes</th>\n",
       "    </tr>\n",
       "  </thead>\n",
       "  <tbody>\n",
       "    <tr>\n",
       "      <th>0</th>\n",
       "      <td>1</td>\n",
       "      <td>8437</td>\n",
       "      <td>42</td>\n",
       "      <td>0</td>\n",
       "      <td>0</td>\n",
       "      <td>F</td>\n",
       "      <td>employee</td>\n",
       "      <td>0</td>\n",
       "      <td>40620.102</td>\n",
       "      <td>[purchase, of, the, house]</td>\n",
       "      <td>[purchase, house]</td>\n",
       "    </tr>\n",
       "    <tr>\n",
       "      <th>1</th>\n",
       "      <td>1</td>\n",
       "      <td>4024</td>\n",
       "      <td>36</td>\n",
       "      <td>1</td>\n",
       "      <td>0</td>\n",
       "      <td>F</td>\n",
       "      <td>employee</td>\n",
       "      <td>0</td>\n",
       "      <td>17932.802</td>\n",
       "      <td>[car, purchase]</td>\n",
       "      <td>[car, purchase]</td>\n",
       "    </tr>\n",
       "    <tr>\n",
       "      <th>2</th>\n",
       "      <td>0</td>\n",
       "      <td>5623</td>\n",
       "      <td>33</td>\n",
       "      <td>1</td>\n",
       "      <td>0</td>\n",
       "      <td>M</td>\n",
       "      <td>employee</td>\n",
       "      <td>0</td>\n",
       "      <td>23341.752</td>\n",
       "      <td>[purchase, of, the, house]</td>\n",
       "      <td>[purchase, house]</td>\n",
       "    </tr>\n",
       "    <tr>\n",
       "      <th>3</th>\n",
       "      <td>3</td>\n",
       "      <td>4124</td>\n",
       "      <td>32</td>\n",
       "      <td>1</td>\n",
       "      <td>0</td>\n",
       "      <td>M</td>\n",
       "      <td>employee</td>\n",
       "      <td>0</td>\n",
       "      <td>42820.568</td>\n",
       "      <td>[supplementary, education]</td>\n",
       "      <td>[education]</td>\n",
       "    </tr>\n",
       "    <tr>\n",
       "      <th>4</th>\n",
       "      <td>0</td>\n",
       "      <td>340266</td>\n",
       "      <td>53</td>\n",
       "      <td>1</td>\n",
       "      <td>1</td>\n",
       "      <td>F</td>\n",
       "      <td>retiree</td>\n",
       "      <td>0</td>\n",
       "      <td>25378.572</td>\n",
       "      <td>[to, have, a, wedding]</td>\n",
       "      <td>[wedding]</td>\n",
       "    </tr>\n",
       "  </tbody>\n",
       "</table>\n",
       "</div>"
      ],
      "text/plain": [
       "   children  days_employed  dob_years  education_id  family_status_id gender  \\\n",
       "0         1           8437         42             0                 0      F   \n",
       "1         1           4024         36             1                 0      F   \n",
       "2         0           5623         33             1                 0      M   \n",
       "3         3           4124         32             1                 0      M   \n",
       "4         0         340266         53             1                 1      F   \n",
       "\n",
       "  income_type  debt  total_income                     purpose  \\\n",
       "0    employee     0     40620.102  [purchase, of, the, house]   \n",
       "1    employee     0     17932.802             [car, purchase]   \n",
       "2    employee     0     23341.752  [purchase, of, the, house]   \n",
       "3    employee     0     42820.568  [supplementary, education]   \n",
       "4     retiree     0     25378.572      [to, have, a, wedding]   \n",
       "\n",
       "            purposes  \n",
       "0  [purchase, house]  \n",
       "1    [car, purchase]  \n",
       "2  [purchase, house]  \n",
       "3        [education]  \n",
       "4          [wedding]  "
      ]
     },
     "execution_count": 42,
     "metadata": {},
     "output_type": "execute_result"
    }
   ],
   "source": [
    "clean_data.head()"
   ]
  },
  {
   "cell_type": "markdown",
   "metadata": {},
   "source": [
    "Nice. Now we need to retrieve the unique values we got from the value_counts() method earlier. So let's first join the values in the purpose into a list and then apply the unique() method to achieve that."
   ]
  },
  {
   "cell_type": "code",
   "execution_count": 43,
   "metadata": {},
   "outputs": [],
   "source": [
    "replace = clean_data['purposes'].apply(lambda x: ' '.join(x)\n",
    "                                       if type(x) != str else x)\n",
    "replace = list(replace.unique())"
   ]
  },
  {
   "cell_type": "code",
   "execution_count": 44,
   "metadata": {},
   "outputs": [
    {
     "data": {
      "text/plain": [
       "['purchase house',\n",
       " 'car purchase',\n",
       " 'education',\n",
       " 'wedding',\n",
       " 'housing transaction',\n",
       " 'purchase house family',\n",
       " 'estate',\n",
       " 'construction property',\n",
       " 'property',\n",
       " 'second-hand car',\n",
       " 'car',\n",
       " 'transaction estate',\n",
       " 'housing',\n",
       " 'second-hand car purchase',\n",
       " 'wedding ceremony',\n",
       " 'estate transaction',\n",
       " 'purchase car',\n",
       " 'profile education',\n",
       " 'university education',\n",
       " 'housing renovation',\n",
       " 'university']"
      ]
     },
     "execution_count": 44,
     "metadata": {},
     "output_type": "execute_result"
    }
   ],
   "source": [
    "replace"
   ]
  },
  {
   "cell_type": "markdown",
   "metadata": {},
   "source": [
    "After reviewing the list above, we identified  4 major categories to group our values by: education, car, wedding, and real estate. So, let's create a function that groups our values based on the categories that we identified. "
   ]
  },
  {
   "cell_type": "code",
   "execution_count": 45,
   "metadata": {},
   "outputs": [],
   "source": [
    "def shorten(data, column):\n",
    "    replace = ['education', 'car', 'wedding']\n",
    "    new = []\n",
    "    for value in data[column]:\n",
    "        if 'university' in value and 'education' in value:\n",
    "            new.append('education')\n",
    "        elif 'university' in value:\n",
    "            new.append('education')\n",
    "        elif 'house' in value or 'housing' in value or 'estate' in value or 'property' in value:\n",
    "            new.append('real estate')\n",
    "        else:\n",
    "            for i in range(len(replace)):\n",
    "                if replace[i] in value:\n",
    "                    new.append(replace[i])\n",
    "    return new"
   ]
  },
  {
   "cell_type": "code",
   "execution_count": 46,
   "metadata": {},
   "outputs": [],
   "source": [
    "new_purpose = shorten(clean_data,'purposes')"
   ]
  },
  {
   "cell_type": "markdown",
   "metadata": {},
   "source": [
    "To ensure that we aren't missing any values let's compare the length of our new list to the lenght of the dataset."
   ]
  },
  {
   "cell_type": "code",
   "execution_count": 47,
   "metadata": {},
   "outputs": [
    {
     "name": "stdout",
     "output_type": "stream",
     "text": [
      "21454 21454\n"
     ]
    }
   ],
   "source": [
    "print(len(new_purpose), len(clean_data))"
   ]
  },
  {
   "cell_type": "markdown",
   "metadata": {},
   "source": [
    "Let's save the results back into the purposes column and print out the unique values. "
   ]
  },
  {
   "cell_type": "code",
   "execution_count": 48,
   "metadata": {},
   "outputs": [
    {
     "name": "stderr",
     "output_type": "stream",
     "text": [
      "C:\\Users\\garci\\Anaconda3\\lib\\site-packages\\ipykernel_launcher.py:1: SettingWithCopyWarning: \n",
      "A value is trying to be set on a copy of a slice from a DataFrame.\n",
      "Try using .loc[row_indexer,col_indexer] = value instead\n",
      "\n",
      "See the caveats in the documentation: https://pandas.pydata.org/pandas-docs/stable/user_guide/indexing.html#returning-a-view-versus-a-copy\n",
      "  \"\"\"Entry point for launching an IPython kernel.\n"
     ]
    }
   ],
   "source": [
    "clean_data['purposes'] = new_purpose"
   ]
  },
  {
   "cell_type": "code",
   "execution_count": 49,
   "metadata": {},
   "outputs": [
    {
     "data": {
      "text/plain": [
       "real estate    10811\n",
       "car             4306\n",
       "education       4013\n",
       "wedding         2324\n",
       "Name: purposes, dtype: int64"
      ]
     },
     "execution_count": 49,
     "metadata": {},
     "output_type": "execute_result"
    }
   ],
   "source": [
    "clean_data['purposes'].value_counts()"
   ]
  },
  {
   "cell_type": "code",
   "execution_count": 50,
   "metadata": {},
   "outputs": [
    {
     "data": {
      "text/html": [
       "<div>\n",
       "<style scoped>\n",
       "    .dataframe tbody tr th:only-of-type {\n",
       "        vertical-align: middle;\n",
       "    }\n",
       "\n",
       "    .dataframe tbody tr th {\n",
       "        vertical-align: top;\n",
       "    }\n",
       "\n",
       "    .dataframe thead th {\n",
       "        text-align: right;\n",
       "    }\n",
       "</style>\n",
       "<table border=\"1\" class=\"dataframe\">\n",
       "  <thead>\n",
       "    <tr style=\"text-align: right;\">\n",
       "      <th></th>\n",
       "      <th>children</th>\n",
       "      <th>days_employed</th>\n",
       "      <th>dob_years</th>\n",
       "      <th>education_id</th>\n",
       "      <th>family_status_id</th>\n",
       "      <th>gender</th>\n",
       "      <th>income_type</th>\n",
       "      <th>debt</th>\n",
       "      <th>total_income</th>\n",
       "      <th>purpose</th>\n",
       "      <th>purposes</th>\n",
       "    </tr>\n",
       "  </thead>\n",
       "  <tbody>\n",
       "    <tr>\n",
       "      <th>0</th>\n",
       "      <td>1</td>\n",
       "      <td>8437</td>\n",
       "      <td>42</td>\n",
       "      <td>0</td>\n",
       "      <td>0</td>\n",
       "      <td>F</td>\n",
       "      <td>employee</td>\n",
       "      <td>0</td>\n",
       "      <td>40620.102</td>\n",
       "      <td>[purchase, of, the, house]</td>\n",
       "      <td>real estate</td>\n",
       "    </tr>\n",
       "    <tr>\n",
       "      <th>1</th>\n",
       "      <td>1</td>\n",
       "      <td>4024</td>\n",
       "      <td>36</td>\n",
       "      <td>1</td>\n",
       "      <td>0</td>\n",
       "      <td>F</td>\n",
       "      <td>employee</td>\n",
       "      <td>0</td>\n",
       "      <td>17932.802</td>\n",
       "      <td>[car, purchase]</td>\n",
       "      <td>car</td>\n",
       "    </tr>\n",
       "    <tr>\n",
       "      <th>2</th>\n",
       "      <td>0</td>\n",
       "      <td>5623</td>\n",
       "      <td>33</td>\n",
       "      <td>1</td>\n",
       "      <td>0</td>\n",
       "      <td>M</td>\n",
       "      <td>employee</td>\n",
       "      <td>0</td>\n",
       "      <td>23341.752</td>\n",
       "      <td>[purchase, of, the, house]</td>\n",
       "      <td>real estate</td>\n",
       "    </tr>\n",
       "    <tr>\n",
       "      <th>3</th>\n",
       "      <td>3</td>\n",
       "      <td>4124</td>\n",
       "      <td>32</td>\n",
       "      <td>1</td>\n",
       "      <td>0</td>\n",
       "      <td>M</td>\n",
       "      <td>employee</td>\n",
       "      <td>0</td>\n",
       "      <td>42820.568</td>\n",
       "      <td>[supplementary, education]</td>\n",
       "      <td>education</td>\n",
       "    </tr>\n",
       "    <tr>\n",
       "      <th>4</th>\n",
       "      <td>0</td>\n",
       "      <td>340266</td>\n",
       "      <td>53</td>\n",
       "      <td>1</td>\n",
       "      <td>1</td>\n",
       "      <td>F</td>\n",
       "      <td>retiree</td>\n",
       "      <td>0</td>\n",
       "      <td>25378.572</td>\n",
       "      <td>[to, have, a, wedding]</td>\n",
       "      <td>wedding</td>\n",
       "    </tr>\n",
       "    <tr>\n",
       "      <th>5</th>\n",
       "      <td>0</td>\n",
       "      <td>926</td>\n",
       "      <td>27</td>\n",
       "      <td>0</td>\n",
       "      <td>1</td>\n",
       "      <td>M</td>\n",
       "      <td>business</td>\n",
       "      <td>0</td>\n",
       "      <td>40922.170</td>\n",
       "      <td>[purchase, of, the, house]</td>\n",
       "      <td>real estate</td>\n",
       "    </tr>\n",
       "    <tr>\n",
       "      <th>6</th>\n",
       "      <td>0</td>\n",
       "      <td>2879</td>\n",
       "      <td>43</td>\n",
       "      <td>0</td>\n",
       "      <td>0</td>\n",
       "      <td>F</td>\n",
       "      <td>business</td>\n",
       "      <td>0</td>\n",
       "      <td>38484.156</td>\n",
       "      <td>[housing, transaction]</td>\n",
       "      <td>real estate</td>\n",
       "    </tr>\n",
       "    <tr>\n",
       "      <th>7</th>\n",
       "      <td>0</td>\n",
       "      <td>152</td>\n",
       "      <td>50</td>\n",
       "      <td>1</td>\n",
       "      <td>0</td>\n",
       "      <td>M</td>\n",
       "      <td>employee</td>\n",
       "      <td>0</td>\n",
       "      <td>21731.829</td>\n",
       "      <td>[education]</td>\n",
       "      <td>education</td>\n",
       "    </tr>\n",
       "    <tr>\n",
       "      <th>8</th>\n",
       "      <td>2</td>\n",
       "      <td>6929</td>\n",
       "      <td>35</td>\n",
       "      <td>0</td>\n",
       "      <td>1</td>\n",
       "      <td>F</td>\n",
       "      <td>employee</td>\n",
       "      <td>0</td>\n",
       "      <td>15337.093</td>\n",
       "      <td>[having, a, wedding]</td>\n",
       "      <td>wedding</td>\n",
       "    </tr>\n",
       "    <tr>\n",
       "      <th>9</th>\n",
       "      <td>0</td>\n",
       "      <td>2188</td>\n",
       "      <td>41</td>\n",
       "      <td>1</td>\n",
       "      <td>0</td>\n",
       "      <td>M</td>\n",
       "      <td>employee</td>\n",
       "      <td>0</td>\n",
       "      <td>23108.150</td>\n",
       "      <td>[purchase, of, the, house, for, my, family]</td>\n",
       "      <td>real estate</td>\n",
       "    </tr>\n",
       "  </tbody>\n",
       "</table>\n",
       "</div>"
      ],
      "text/plain": [
       "   children  days_employed  dob_years  education_id  family_status_id gender  \\\n",
       "0         1           8437         42             0                 0      F   \n",
       "1         1           4024         36             1                 0      F   \n",
       "2         0           5623         33             1                 0      M   \n",
       "3         3           4124         32             1                 0      M   \n",
       "4         0         340266         53             1                 1      F   \n",
       "5         0            926         27             0                 1      M   \n",
       "6         0           2879         43             0                 0      F   \n",
       "7         0            152         50             1                 0      M   \n",
       "8         2           6929         35             0                 1      F   \n",
       "9         0           2188         41             1                 0      M   \n",
       "\n",
       "  income_type  debt  total_income  \\\n",
       "0    employee     0     40620.102   \n",
       "1    employee     0     17932.802   \n",
       "2    employee     0     23341.752   \n",
       "3    employee     0     42820.568   \n",
       "4     retiree     0     25378.572   \n",
       "5    business     0     40922.170   \n",
       "6    business     0     38484.156   \n",
       "7    employee     0     21731.829   \n",
       "8    employee     0     15337.093   \n",
       "9    employee     0     23108.150   \n",
       "\n",
       "                                       purpose     purposes  \n",
       "0                   [purchase, of, the, house]  real estate  \n",
       "1                              [car, purchase]          car  \n",
       "2                   [purchase, of, the, house]  real estate  \n",
       "3                   [supplementary, education]    education  \n",
       "4                       [to, have, a, wedding]      wedding  \n",
       "5                   [purchase, of, the, house]  real estate  \n",
       "6                       [housing, transaction]  real estate  \n",
       "7                                  [education]    education  \n",
       "8                         [having, a, wedding]      wedding  \n",
       "9  [purchase, of, the, house, for, my, family]  real estate  "
      ]
     },
     "execution_count": 50,
     "metadata": {},
     "output_type": "execute_result"
    }
   ],
   "source": [
    "clean_data.head(10) "
   ]
  },
  {
   "cell_type": "markdown",
   "metadata": {},
   "source": [
    "The unique values show that our values have correctly been categorized! Let's finish this off by dropping the purpose column as we will no longer need it. "
   ]
  },
  {
   "cell_type": "code",
   "execution_count": 51,
   "metadata": {},
   "outputs": [
    {
     "name": "stderr",
     "output_type": "stream",
     "text": [
      "C:\\Users\\garci\\Anaconda3\\lib\\site-packages\\pandas\\core\\frame.py:3997: SettingWithCopyWarning: \n",
      "A value is trying to be set on a copy of a slice from a DataFrame\n",
      "\n",
      "See the caveats in the documentation: https://pandas.pydata.org/pandas-docs/stable/user_guide/indexing.html#returning-a-view-versus-a-copy\n",
      "  errors=errors,\n"
     ]
    }
   ],
   "source": [
    "clean_data.drop(columns ='purpose', inplace=True) #save the changes made to the dataframe in place"
   ]
  },
  {
   "cell_type": "code",
   "execution_count": 52,
   "metadata": {},
   "outputs": [
    {
     "data": {
      "text/html": [
       "<div>\n",
       "<style scoped>\n",
       "    .dataframe tbody tr th:only-of-type {\n",
       "        vertical-align: middle;\n",
       "    }\n",
       "\n",
       "    .dataframe tbody tr th {\n",
       "        vertical-align: top;\n",
       "    }\n",
       "\n",
       "    .dataframe thead th {\n",
       "        text-align: right;\n",
       "    }\n",
       "</style>\n",
       "<table border=\"1\" class=\"dataframe\">\n",
       "  <thead>\n",
       "    <tr style=\"text-align: right;\">\n",
       "      <th></th>\n",
       "      <th>children</th>\n",
       "      <th>days_employed</th>\n",
       "      <th>dob_years</th>\n",
       "      <th>education_id</th>\n",
       "      <th>family_status_id</th>\n",
       "      <th>gender</th>\n",
       "      <th>income_type</th>\n",
       "      <th>debt</th>\n",
       "      <th>total_income</th>\n",
       "      <th>purposes</th>\n",
       "    </tr>\n",
       "  </thead>\n",
       "  <tbody>\n",
       "    <tr>\n",
       "      <th>0</th>\n",
       "      <td>1</td>\n",
       "      <td>8437</td>\n",
       "      <td>42</td>\n",
       "      <td>0</td>\n",
       "      <td>0</td>\n",
       "      <td>F</td>\n",
       "      <td>employee</td>\n",
       "      <td>0</td>\n",
       "      <td>40620.102</td>\n",
       "      <td>real estate</td>\n",
       "    </tr>\n",
       "    <tr>\n",
       "      <th>1</th>\n",
       "      <td>1</td>\n",
       "      <td>4024</td>\n",
       "      <td>36</td>\n",
       "      <td>1</td>\n",
       "      <td>0</td>\n",
       "      <td>F</td>\n",
       "      <td>employee</td>\n",
       "      <td>0</td>\n",
       "      <td>17932.802</td>\n",
       "      <td>car</td>\n",
       "    </tr>\n",
       "  </tbody>\n",
       "</table>\n",
       "</div>"
      ],
      "text/plain": [
       "   children  days_employed  dob_years  education_id  family_status_id gender  \\\n",
       "0         1           8437         42             0                 0      F   \n",
       "1         1           4024         36             1                 0      F   \n",
       "\n",
       "  income_type  debt  total_income     purposes  \n",
       "0    employee     0     40620.102  real estate  \n",
       "1    employee     0     17932.802          car  "
      ]
     },
     "execution_count": 52,
     "metadata": {},
     "output_type": "execute_result"
    }
   ],
   "source": [
    "clean_data.head(2) "
   ]
  },
  {
   "cell_type": "markdown",
   "metadata": {},
   "source": [
    "### Conclusion"
   ]
  },
  {
   "cell_type": "markdown",
   "metadata": {},
   "source": [
    "For this section, we were able to group the reasons individuals took out loans into four main categories: education, real estate, wedding, and car. Our main tool used to achieve this was the Python nltk library. We began by creating a list of words from each string value in the purpose column. This then allowed us to lemmatize each word using noun as our part of speech. Having the nouns lemmatized, we created another column that contained only nouns from the values in the purpose column. A quick check showed us that there were a few empty columns which after reviewing the original purpose column, we were able to fill in with it's corresponding value. We then went on to further clean the data using the four key words (education, real estate, wedding, and car) to group data based on their common string values. "
   ]
  },
  {
   "cell_type": "markdown",
   "metadata": {},
   "source": [
    "### Categorizing Data"
   ]
  },
  {
   "cell_type": "markdown",
   "metadata": {},
   "source": [
    "Now that the majority of our data has been cleaned, there is one more step needed before we can actually start answering the assigned business questions. Since we want to identify the relationships between debt (binary value) and another variable, we want to make sure that our data is set up to allow us to do calculations that allow us to compare and interpret if a relationship exists. Most of our data is set up for this. However, the continuous values in our total_income column seem to be a problem given their distributed continuous values. Let's further investigate this column to see if we can identify a way to group them by. "
   ]
  },
  {
   "cell_type": "markdown",
   "metadata": {},
   "source": [
    "We'll use the .describe() function to look into the general descriptive statistics of the column. Given that the function tends to give us a large float value, we'll round the values to the second place. "
   ]
  },
  {
   "cell_type": "code",
   "execution_count": 53,
   "metadata": {},
   "outputs": [
    {
     "data": {
      "text/plain": [
       "count     21454.00\n",
       "mean      26787.57\n",
       "std       15647.10\n",
       "min        3306.76\n",
       "25%       17219.82\n",
       "50%       24967.10\n",
       "75%       31330.24\n",
       "max      362496.64\n",
       "Name: total_income, dtype: float64"
      ]
     },
     "execution_count": 53,
     "metadata": {},
     "output_type": "execute_result"
    }
   ],
   "source": [
    "round(clean_data['total_income'].describe(), 2)"
   ]
  },
  {
   "cell_type": "markdown",
   "metadata": {},
   "source": [
    "It's interesting to see how on average, the individuals that take out loans have a total income of 167,422. In comparison, according to the U.S. Census Bureau, the U.S. median household income was 63,179 in 2018 (see: <a href=\"https://www.census.gov/library/stories/2019/09/us-median-household-income-not-significantly-different-from-2017.html\">here</a>). Knowing this, it seems more reasonable to categorize our data based of the quartiles given by the .describe() report. So, our first income class will be between 0 and up to 107,623 (see min and 25% from report), the second income class between 107,623.01 and 156,044 (see report), and so on. "
   ]
  },
  {
   "cell_type": "code",
   "execution_count": 54,
   "metadata": {},
   "outputs": [
    {
     "name": "stderr",
     "output_type": "stream",
     "text": [
      "C:\\Users\\garci\\Anaconda3\\lib\\site-packages\\ipykernel_launcher.py:4: SettingWithCopyWarning: \n",
      "A value is trying to be set on a copy of a slice from a DataFrame.\n",
      "Try using .loc[row_indexer,col_indexer] = value instead\n",
      "\n",
      "See the caveats in the documentation: https://pandas.pydata.org/pandas-docs/stable/user_guide/indexing.html#returning-a-view-versus-a-copy\n",
      "  after removing the cwd from sys.path.\n"
     ]
    }
   ],
   "source": [
    "# lambda fucntion will replace each total_income value based on the comparison\n",
    "# operation that they meet (where comparison operator evaluates to True)\n",
    "clean_data['income_class'] = clean_data['total_income'].apply(\n",
    "    lambda x: 'low income' if 0 < x <= 107623 else\n",
    "    ('middle income' if 107623 < x <= 156044 else\n",
    "     ('high income' if 156044 < x <= 195813 else 'highest income')))"
   ]
  },
  {
   "cell_type": "markdown",
   "metadata": {},
   "source": [
    "Let's check the unique values and their corresponding counts from the income_class column. "
   ]
  },
  {
   "cell_type": "code",
   "execution_count": 55,
   "metadata": {},
   "outputs": [
    {
     "data": {
      "text/plain": [
       "low income        21379\n",
       "middle income        49\n",
       "high income          14\n",
       "highest income       12\n",
       "Name: income_class, dtype: int64"
      ]
     },
     "execution_count": 55,
     "metadata": {},
     "output_type": "execute_result"
    }
   ],
   "source": [
    "clean_data['income_class'].value_counts()"
   ]
  },
  {
   "cell_type": "markdown",
   "metadata": {},
   "source": [
    "Nice, our values seem to be evenly distributed. Let's go ahead and drop the total_income column as we won't need it anymore."
   ]
  },
  {
   "cell_type": "code",
   "execution_count": 56,
   "metadata": {},
   "outputs": [
    {
     "name": "stderr",
     "output_type": "stream",
     "text": [
      "C:\\Users\\garci\\Anaconda3\\lib\\site-packages\\pandas\\core\\frame.py:3997: SettingWithCopyWarning: \n",
      "A value is trying to be set on a copy of a slice from a DataFrame\n",
      "\n",
      "See the caveats in the documentation: https://pandas.pydata.org/pandas-docs/stable/user_guide/indexing.html#returning-a-view-versus-a-copy\n",
      "  errors=errors,\n"
     ]
    }
   ],
   "source": [
    "clean_data.drop(columns ='total_income',inplace=True)"
   ]
  },
  {
   "cell_type": "code",
   "execution_count": 57,
   "metadata": {},
   "outputs": [
    {
     "data": {
      "text/html": [
       "<div>\n",
       "<style scoped>\n",
       "    .dataframe tbody tr th:only-of-type {\n",
       "        vertical-align: middle;\n",
       "    }\n",
       "\n",
       "    .dataframe tbody tr th {\n",
       "        vertical-align: top;\n",
       "    }\n",
       "\n",
       "    .dataframe thead th {\n",
       "        text-align: right;\n",
       "    }\n",
       "</style>\n",
       "<table border=\"1\" class=\"dataframe\">\n",
       "  <thead>\n",
       "    <tr style=\"text-align: right;\">\n",
       "      <th></th>\n",
       "      <th>children</th>\n",
       "      <th>days_employed</th>\n",
       "      <th>dob_years</th>\n",
       "      <th>education_id</th>\n",
       "      <th>family_status_id</th>\n",
       "      <th>gender</th>\n",
       "      <th>income_type</th>\n",
       "      <th>debt</th>\n",
       "      <th>purposes</th>\n",
       "      <th>income_class</th>\n",
       "    </tr>\n",
       "  </thead>\n",
       "  <tbody>\n",
       "    <tr>\n",
       "      <th>0</th>\n",
       "      <td>1</td>\n",
       "      <td>8437</td>\n",
       "      <td>42</td>\n",
       "      <td>0</td>\n",
       "      <td>0</td>\n",
       "      <td>F</td>\n",
       "      <td>employee</td>\n",
       "      <td>0</td>\n",
       "      <td>real estate</td>\n",
       "      <td>low income</td>\n",
       "    </tr>\n",
       "    <tr>\n",
       "      <th>1</th>\n",
       "      <td>1</td>\n",
       "      <td>4024</td>\n",
       "      <td>36</td>\n",
       "      <td>1</td>\n",
       "      <td>0</td>\n",
       "      <td>F</td>\n",
       "      <td>employee</td>\n",
       "      <td>0</td>\n",
       "      <td>car</td>\n",
       "      <td>low income</td>\n",
       "    </tr>\n",
       "    <tr>\n",
       "      <th>2</th>\n",
       "      <td>0</td>\n",
       "      <td>5623</td>\n",
       "      <td>33</td>\n",
       "      <td>1</td>\n",
       "      <td>0</td>\n",
       "      <td>M</td>\n",
       "      <td>employee</td>\n",
       "      <td>0</td>\n",
       "      <td>real estate</td>\n",
       "      <td>low income</td>\n",
       "    </tr>\n",
       "    <tr>\n",
       "      <th>3</th>\n",
       "      <td>3</td>\n",
       "      <td>4124</td>\n",
       "      <td>32</td>\n",
       "      <td>1</td>\n",
       "      <td>0</td>\n",
       "      <td>M</td>\n",
       "      <td>employee</td>\n",
       "      <td>0</td>\n",
       "      <td>education</td>\n",
       "      <td>low income</td>\n",
       "    </tr>\n",
       "    <tr>\n",
       "      <th>4</th>\n",
       "      <td>0</td>\n",
       "      <td>340266</td>\n",
       "      <td>53</td>\n",
       "      <td>1</td>\n",
       "      <td>1</td>\n",
       "      <td>F</td>\n",
       "      <td>retiree</td>\n",
       "      <td>0</td>\n",
       "      <td>wedding</td>\n",
       "      <td>low income</td>\n",
       "    </tr>\n",
       "  </tbody>\n",
       "</table>\n",
       "</div>"
      ],
      "text/plain": [
       "   children  days_employed  dob_years  education_id  family_status_id gender  \\\n",
       "0         1           8437         42             0                 0      F   \n",
       "1         1           4024         36             1                 0      F   \n",
       "2         0           5623         33             1                 0      M   \n",
       "3         3           4124         32             1                 0      M   \n",
       "4         0         340266         53             1                 1      F   \n",
       "\n",
       "  income_type  debt     purposes income_class  \n",
       "0    employee     0  real estate   low income  \n",
       "1    employee     0          car   low income  \n",
       "2    employee     0  real estate   low income  \n",
       "3    employee     0    education   low income  \n",
       "4     retiree     0      wedding   low income  "
      ]
     },
     "execution_count": 57,
     "metadata": {},
     "output_type": "execute_result"
    }
   ],
   "source": [
    "clean_data.head()"
   ]
  },
  {
   "cell_type": "markdown",
   "metadata": {},
   "source": [
    "So far we have dealt with all of the variables of interest (purposes, income_class, and family_status_id columns) except for children column. Let's quickly explore the values of this column to determine if it will need to be categorized. We'll do this by using the .value_counts() method."
   ]
  },
  {
   "cell_type": "code",
   "execution_count": 58,
   "metadata": {},
   "outputs": [
    {
     "data": {
      "text/plain": [
       "0     14091\n",
       "1      4855\n",
       "2      2052\n",
       "3       330\n",
       "20       76\n",
       "4        41\n",
       "5         9\n",
       "Name: children, dtype: int64"
      ]
     },
     "execution_count": 58,
     "metadata": {},
     "output_type": "execute_result"
    }
   ],
   "source": [
    "clean_data['children'].value_counts()"
   ]
  },
  {
   "cell_type": "markdown",
   "metadata": {},
   "source": [
    "That's weird. For some reason, 76 individuals indicated that they have 20 children. This does not seem rational, so it looks like we'll send another email to the person in charge of this dataset. In addition, we can also observe that the number of people with 0 children is vastly greater than those who do have one. It seems reasonable then to group these into two categories: 0 and 1; where 0 indicates the absent of children and 1 the presence of a child. Lastly, for now, let's include those who reported having 20 children into the 1(child) group as it's only 76 people who reported this."
   ]
  },
  {
   "cell_type": "code",
   "execution_count": 59,
   "metadata": {},
   "outputs": [
    {
     "name": "stderr",
     "output_type": "stream",
     "text": [
      "C:\\Users\\garci\\Anaconda3\\lib\\site-packages\\ipykernel_launcher.py:1: SettingWithCopyWarning: \n",
      "A value is trying to be set on a copy of a slice from a DataFrame.\n",
      "Try using .loc[row_indexer,col_indexer] = value instead\n",
      "\n",
      "See the caveats in the documentation: https://pandas.pydata.org/pandas-docs/stable/user_guide/indexing.html#returning-a-view-versus-a-copy\n",
      "  \"\"\"Entry point for launching an IPython kernel.\n"
     ]
    }
   ],
   "source": [
    "clean_data['child'] = clean_data['children'].apply(lambda x: 0\n",
    "                                                   if x == 0 else 1)"
   ]
  },
  {
   "cell_type": "code",
   "execution_count": 60,
   "metadata": {},
   "outputs": [
    {
     "data": {
      "text/plain": [
       "0    14091\n",
       "1     7363\n",
       "Name: child, dtype: int64"
      ]
     },
     "execution_count": 60,
     "metadata": {},
     "output_type": "execute_result"
    }
   ],
   "source": [
    "clean_data['child'].value_counts()"
   ]
  },
  {
   "cell_type": "markdown",
   "metadata": {},
   "source": [
    "### Conclusion"
   ]
  },
  {
   "cell_type": "markdown",
   "metadata": {},
   "source": [
    "> In order to answer our business question, we had to convert the continuous values in the total_income column into categorical variables. After looking through the descriptive statistics summary and comparing the mean to that of the general U.S. population, it was determined to categorize our values by the total_income quartiles--it wouldn't make sense to use the income brackets of the U.S. since the mean value is much greater than that of the median U.S. household income. After grouping our total_income column we went on to check the children column as it was the only variable of interest-- in terms of answering the business question -- left to explore. The value_counts() method showed us that there was a possible erroneous value of 20 children as well as an overrepresented value count of 0 children. As such, it was decided to group this column into two categories: 0 for no children and 1 for at least one child. With this done, we are now ready to answer the business questions. "
   ]
  },
  {
   "cell_type": "markdown",
   "metadata": {},
   "source": [
    "### Business Questions"
   ]
  },
  {
   "cell_type": "markdown",
   "metadata": {},
   "source": [
    "- Is there a relation between having kids and repaying a loan on time?"
   ]
  },
  {
   "cell_type": "code",
   "execution_count": 120,
   "metadata": {},
   "outputs": [],
   "source": [
    "from matplotlib import pyplot as plt"
   ]
  },
  {
   "cell_type": "code",
   "execution_count": 121,
   "metadata": {},
   "outputs": [
    {
     "name": "stderr",
     "output_type": "stream",
     "text": [
      "C:\\Users\\garci\\Anaconda3\\lib\\site-packages\\statsmodels\\tools\\_testing.py:19: FutureWarning: pandas.util.testing is deprecated. Use the functions in the public API at pandas.testing instead.\n",
      "  import pandas.util.testing as tm\n"
     ]
    }
   ],
   "source": [
    "import seaborn as sns"
   ]
  },
  {
   "cell_type": "markdown",
   "metadata": {},
   "source": [
    "In order to answer this question, let's use a pivot table to get the mean debt column values for each child category using the Pandas .pivot_table() method. We'll pass in child as our index as it's what we want to group our table by. The values we will use for our aggregate function (mean) will be debt. We also will pass the True boolean value as an argument to the margins parameter to get the total  mean debt value for the children columns and thus the dataframe. "
   ]
  },
  {
   "cell_type": "code",
   "execution_count": 124,
   "metadata": {},
   "outputs": [],
   "source": [
    "child_pivot = clean_data.pivot_table(index='child',\n",
    "                                     values='debt',\n",
    "                                     aggfunc='mean',\n",
    "                                     margins=True)"
   ]
  },
  {
   "cell_type": "code",
   "execution_count": 125,
   "metadata": {},
   "outputs": [
    {
     "data": {
      "text/html": [
       "<div>\n",
       "<style scoped>\n",
       "    .dataframe tbody tr th:only-of-type {\n",
       "        vertical-align: middle;\n",
       "    }\n",
       "\n",
       "    .dataframe tbody tr th {\n",
       "        vertical-align: top;\n",
       "    }\n",
       "\n",
       "    .dataframe thead th {\n",
       "        text-align: right;\n",
       "    }\n",
       "</style>\n",
       "<table border=\"1\" class=\"dataframe\">\n",
       "  <thead>\n",
       "    <tr style=\"text-align: right;\">\n",
       "      <th></th>\n",
       "      <th>debt</th>\n",
       "    </tr>\n",
       "    <tr>\n",
       "      <th>child</th>\n",
       "      <th></th>\n",
       "    </tr>\n",
       "  </thead>\n",
       "  <tbody>\n",
       "    <tr>\n",
       "      <th>0</th>\n",
       "      <td>7.54%</td>\n",
       "    </tr>\n",
       "    <tr>\n",
       "      <th>All</th>\n",
       "      <td>8.12%</td>\n",
       "    </tr>\n",
       "    <tr>\n",
       "      <th>1</th>\n",
       "      <td>9.21%</td>\n",
       "    </tr>\n",
       "  </tbody>\n",
       "</table>\n",
       "</div>"
      ],
      "text/plain": [
       "        debt\n",
       "child       \n",
       "0      7.54%\n",
       "All    8.12%\n",
       "1      9.21%"
      ]
     },
     "execution_count": 125,
     "metadata": {},
     "output_type": "execute_result"
    }
   ],
   "source": [
    "child_pivot.applymap(lambda x: \"{0:.2f}%\".format(x*100)).sort_values('debt')\n"
   ]
  },
  {
   "cell_type": "code",
   "execution_count": 138,
   "metadata": {},
   "outputs": [
    {
     "data": {
      "text/plain": [
       "[0, 1, 'All']"
      ]
     },
     "execution_count": 138,
     "metadata": {},
     "output_type": "execute_result"
    }
   ],
   "source": [
    "list(child_pivot.index)"
   ]
  },
  {
   "cell_type": "code",
   "execution_count": 256,
   "metadata": {},
   "outputs": [
    {
     "data": {
      "image/png": "[encoded data removed]",
      "text/plain": [
       "<Figure size 720x360 with 1 Axes>"
      ]
     },
     "metadata": {
      "needs_background": "light"
     },
     "output_type": "display_data"
    }
   ],
   "source": [
    "ax = child_pivot.sort_values('debt').plot(kind='bar',\n",
    "                                          rot=0,\n",
    "                                          alpha=.7,\n",
    "                                          figsize=(10, 5),\n",
    "                                          legend=False)\n",
    "plt.title(\"Debt Ratio Per Children\", size=20, loc='left', pad=15)\n",
    "plt.grid(axis=\"y\", alpha=.4)\n",
    "\n",
    "ax.set_xticklabels(['0', 'Aggregated', '1+'])\n",
    "plt.ylim(0, child_pivot.values.max() + .02)\n",
    "ax.spines['left'].set_color('lightgray')\n",
    "ax.spines['bottom'].set_color('lightgray')\n",
    "ax.spines['right'].set_visible(False)\n",
    "ax.spines['top'].set_visible(False)\n",
    "ax.set_xlabel(\"Number of Children\", labelpad=15, fontsize=14)\n",
    "ax.set_ylabel(\"Debt Ratio\", labelpad=15, fontsize=14)\n",
    "\n",
    "for label, text in zip(range(0, len(child_pivot)),\n",
    "                       child_pivot.sort_values('debt').values):\n",
    "    plt.text(label,\n",
    "             text,\n",
    "             \"{:.2%}\".format(float(text)),\n",
    "             ha='center',\n",
    "             va=\"bottom\",\n",
    "             fontweight=\"roman\",\n",
    "             fontsize=13)\n",
    "\n",
    "plt.show()"
   ]
  },
  {
   "cell_type": "markdown",
   "metadata": {},
   "source": [
    "Notice how we get a small mean decimal value for our debt means. Let's explore this result by calculating our own mean. We'll start by grouping our data by debt and then the child variables."
   ]
  },
  {
   "cell_type": "code",
   "execution_count": 63,
   "metadata": {},
   "outputs": [],
   "source": [
    "child = clean_data.groupby(['child','debt']).count() "
   ]
  },
  {
   "cell_type": "code",
   "execution_count": 64,
   "metadata": {},
   "outputs": [
    {
     "data": {
      "text/html": [
       "<div>\n",
       "<style scoped>\n",
       "    .dataframe tbody tr th:only-of-type {\n",
       "        vertical-align: middle;\n",
       "    }\n",
       "\n",
       "    .dataframe tbody tr th {\n",
       "        vertical-align: top;\n",
       "    }\n",
       "\n",
       "    .dataframe thead th {\n",
       "        text-align: right;\n",
       "    }\n",
       "</style>\n",
       "<table border=\"1\" class=\"dataframe\">\n",
       "  <thead>\n",
       "    <tr style=\"text-align: right;\">\n",
       "      <th></th>\n",
       "      <th></th>\n",
       "      <th>children</th>\n",
       "      <th>days_employed</th>\n",
       "      <th>dob_years</th>\n",
       "      <th>education_id</th>\n",
       "      <th>family_status_id</th>\n",
       "      <th>gender</th>\n",
       "      <th>income_type</th>\n",
       "      <th>purposes</th>\n",
       "      <th>income_class</th>\n",
       "    </tr>\n",
       "    <tr>\n",
       "      <th>child</th>\n",
       "      <th>debt</th>\n",
       "      <th></th>\n",
       "      <th></th>\n",
       "      <th></th>\n",
       "      <th></th>\n",
       "      <th></th>\n",
       "      <th></th>\n",
       "      <th></th>\n",
       "      <th></th>\n",
       "      <th></th>\n",
       "    </tr>\n",
       "  </thead>\n",
       "  <tbody>\n",
       "    <tr>\n",
       "      <th rowspan=\"2\" valign=\"top\">0</th>\n",
       "      <th>0</th>\n",
       "      <td>13028</td>\n",
       "      <td>13028</td>\n",
       "      <td>13028</td>\n",
       "      <td>13028</td>\n",
       "      <td>13028</td>\n",
       "      <td>13028</td>\n",
       "      <td>13028</td>\n",
       "      <td>13028</td>\n",
       "      <td>13028</td>\n",
       "    </tr>\n",
       "    <tr>\n",
       "      <th>1</th>\n",
       "      <td>1063</td>\n",
       "      <td>1063</td>\n",
       "      <td>1063</td>\n",
       "      <td>1063</td>\n",
       "      <td>1063</td>\n",
       "      <td>1063</td>\n",
       "      <td>1063</td>\n",
       "      <td>1063</td>\n",
       "      <td>1063</td>\n",
       "    </tr>\n",
       "    <tr>\n",
       "      <th rowspan=\"2\" valign=\"top\">1</th>\n",
       "      <th>0</th>\n",
       "      <td>6685</td>\n",
       "      <td>6685</td>\n",
       "      <td>6685</td>\n",
       "      <td>6685</td>\n",
       "      <td>6685</td>\n",
       "      <td>6685</td>\n",
       "      <td>6685</td>\n",
       "      <td>6685</td>\n",
       "      <td>6685</td>\n",
       "    </tr>\n",
       "    <tr>\n",
       "      <th>1</th>\n",
       "      <td>678</td>\n",
       "      <td>678</td>\n",
       "      <td>678</td>\n",
       "      <td>678</td>\n",
       "      <td>678</td>\n",
       "      <td>678</td>\n",
       "      <td>678</td>\n",
       "      <td>678</td>\n",
       "      <td>678</td>\n",
       "    </tr>\n",
       "  </tbody>\n",
       "</table>\n",
       "</div>"
      ],
      "text/plain": [
       "            children  days_employed  dob_years  education_id  \\\n",
       "child debt                                                     \n",
       "0     0        13028          13028      13028         13028   \n",
       "      1         1063           1063       1063          1063   \n",
       "1     0         6685           6685       6685          6685   \n",
       "      1          678            678        678           678   \n",
       "\n",
       "            family_status_id  gender  income_type  purposes  income_class  \n",
       "child debt                                                                 \n",
       "0     0                13028   13028        13028     13028         13028  \n",
       "      1                 1063    1063         1063      1063          1063  \n",
       "1     0                 6685    6685         6685      6685          6685  \n",
       "      1                  678     678          678       678           678  "
      ]
     },
     "execution_count": 64,
     "metadata": {},
     "output_type": "execute_result"
    }
   ],
   "source": [
    "child"
   ]
  },
  {
   "cell_type": "markdown",
   "metadata": {},
   "source": [
    "So we see that the same resulting count information is redundant across the other columns so let's take the days_employed column and use it to calculate the mean values."
   ]
  },
  {
   "cell_type": "code",
   "execution_count": 65,
   "metadata": {},
   "outputs": [
    {
     "data": {
      "text/plain": [
       "child  debt\n",
       "0      0       13028\n",
       "       1        1063\n",
       "1      0        6685\n",
       "       1         678\n",
       "Name: days_employed, dtype: int64"
      ]
     },
     "execution_count": 65,
     "metadata": {},
     "output_type": "execute_result"
    }
   ],
   "source": [
    "child['days_employed']"
   ]
  },
  {
   "cell_type": "code",
   "execution_count": 66,
   "metadata": {},
   "outputs": [],
   "source": [
    "child_0_0, child_0_1, child_1_0, child_1_1 = child['days_employed'][0][\n",
    "    0], child['days_employed'][0][1], child['days_employed'][1][0], child[\n",
    "        'days_employed'][1][1]"
   ]
  },
  {
   "cell_type": "markdown",
   "metadata": {},
   "source": [
    "We'll add together the values in the no child group (13028 and 1063) and divide it by the debt column (1063). We'll repeat the same procedure for the child group. "
   ]
  },
  {
   "cell_type": "code",
   "execution_count": 67,
   "metadata": {},
   "outputs": [
    {
     "name": "stdout",
     "output_type": "stream",
     "text": [
      "No Child & Debt: 7.54%\n",
      "Child & Debt: 9.21%\n"
     ]
    }
   ],
   "source": [
    "print('No Child & Debt: {:.2f}%\\nChild & Debt: {:.2f}%'.format(\n",
    "    (child_0_1 / (child_0_0 + child_0_1)) * 100,\n",
    "    (child_1_1 / (child_1_0 + child_1_1)) * 100))"
   ]
  },
  {
   "cell_type": "markdown",
   "metadata": {},
   "source": [
    "If we compare the values retrieved from this previous cells result with that of the pivot table we recently created, we can see that the pivot table gave us the independent ratio of debt amongst those with child and those without child. "
   ]
  },
  {
   "cell_type": "markdown",
   "metadata": {},
   "source": [
    "### Conclusion"
   ]
  },
  {
   "cell_type": "markdown",
   "metadata": {},
   "source": [
    "With the ratio of percentage being roughly a percentage and a half away from each other, it is reasonable to conclude that there is no concrete relationship between having kids and repaying loan in time. "
   ]
  },
  {
   "cell_type": "markdown",
   "metadata": {},
   "source": [
    "- Is there a relation between marital status and repaying a loan on time?"
   ]
  },
  {
   "cell_type": "markdown",
   "metadata": {},
   "source": [
    "We'll start answering this question by again, creating a pivot table with all but the index argument being the same as the child pivot table that we created previously. "
   ]
  },
  {
   "cell_type": "code",
   "execution_count": 68,
   "metadata": {},
   "outputs": [],
   "source": [
    "pivot2 = clean_data.pivot_table(index='family_status_id',\n",
    "                                values='debt',\n",
    "                                aggfunc='mean',\n",
    "                                margins=True)"
   ]
  },
  {
   "cell_type": "code",
   "execution_count": 116,
   "metadata": {},
   "outputs": [
    {
     "data": {
      "text/html": [
       "<div>\n",
       "<style scoped>\n",
       "    .dataframe tbody tr th:only-of-type {\n",
       "        vertical-align: middle;\n",
       "    }\n",
       "\n",
       "    .dataframe tbody tr th {\n",
       "        vertical-align: top;\n",
       "    }\n",
       "\n",
       "    .dataframe thead th {\n",
       "        text-align: right;\n",
       "    }\n",
       "</style>\n",
       "<table border=\"1\" class=\"dataframe\">\n",
       "  <thead>\n",
       "    <tr style=\"text-align: right;\">\n",
       "      <th></th>\n",
       "      <th>debt</th>\n",
       "    </tr>\n",
       "    <tr>\n",
       "      <th>family_status_id</th>\n",
       "      <th></th>\n",
       "    </tr>\n",
       "  </thead>\n",
       "  <tbody>\n",
       "    <tr>\n",
       "      <th>2</th>\n",
       "      <td>6.57%</td>\n",
       "    </tr>\n",
       "    <tr>\n",
       "      <th>3</th>\n",
       "      <td>7.11%</td>\n",
       "    </tr>\n",
       "    <tr>\n",
       "      <th>0</th>\n",
       "      <td>7.55%</td>\n",
       "    </tr>\n",
       "    <tr>\n",
       "      <th>All</th>\n",
       "      <td>8.12%</td>\n",
       "    </tr>\n",
       "    <tr>\n",
       "      <th>1</th>\n",
       "      <td>9.35%</td>\n",
       "    </tr>\n",
       "    <tr>\n",
       "      <th>4</th>\n",
       "      <td>9.75%</td>\n",
       "    </tr>\n",
       "  </tbody>\n",
       "</table>\n",
       "</div>"
      ],
      "text/plain": [
       "                   debt\n",
       "family_status_id       \n",
       "2                 6.57%\n",
       "3                 7.11%\n",
       "0                 7.55%\n",
       "All               8.12%\n",
       "1                 9.35%\n",
       "4                 9.75%"
      ]
     },
     "execution_count": 116,
     "metadata": {},
     "output_type": "execute_result"
    }
   ],
   "source": [
    "pivot2.applymap(lambda x: \"{0:.2f}%\".format(x*100)).sort_values('debt')"
   ]
  },
  {
   "cell_type": "code",
   "execution_count": 254,
   "metadata": {},
   "outputs": [
    {
     "data": {
      "image/png": "[encoded data removed]",
      "text/plain": [
       "<Figure size 864x432 with 1 Axes>"
      ]
     },
     "metadata": {
      "needs_background": "light"
     },
     "output_type": "display_data"
    }
   ],
   "source": [
    "ax = pivot2.sort_values('debt').plot(kind='bar',\n",
    "                                     rot=0,\n",
    "                                     alpha=.7,\n",
    "                                     figsize=(12, 6),\n",
    "                                     legend=False)\n",
    "plt.title(\"Debt Ratio Per Marital Status\", size=20, loc='left', pad=15)\n",
    "plt.grid(axis=\"y\", alpha=.4)\n",
    "ax.set_xticklabels([\n",
    "    'Widow / widower', 'Divorced', 'Married', 'Aggregated',\n",
    "    'Civil partnership', 'Unmarried'\n",
    "])\n",
    "plt.ylim(0, child_pivot.values.max() + .02)\n",
    "ax.spines['left'].set_color('lightgray')\n",
    "ax.spines['bottom'].set_color('lightgray')\n",
    "ax.spines['right'].set_visible(False)\n",
    "ax.spines['top'].set_visible(False)\n",
    "ax.set_xlabel(\"Marital Status\", labelpad=15, fontsize=14)\n",
    "ax.set_ylabel(\"Debt Ratio\", labelpad=15, fontsize=14)\n",
    "\n",
    "for label, text in zip(range(0, len(pivot2)),\n",
    "                       pivot2.sort_values('debt').values):\n",
    "    plt.text(label,\n",
    "             text,\n",
    "             \"{:.2%}\".format(float(text)),\n",
    "             ha='center',\n",
    "             va=\"bottom\",\n",
    "             fontweight=\"roman\",\n",
    "             fontsize=13)\n",
    "\n",
    "plt.show()"
   ]
  },
  {
   "cell_type": "code",
   "execution_count": 70,
   "metadata": {},
   "outputs": [
    {
     "data": {
      "text/plain": [
       "[('married', 0),\n",
       " ('civil partnership', 1),\n",
       " ('widow / widower', 2),\n",
       " ('divorced', 3),\n",
       " ('unmarried', 4)]"
      ]
     },
     "execution_count": 70,
     "metadata": {},
     "output_type": "execute_result"
    }
   ],
   "source": [
    "family_key #for reference\n"
   ]
  },
  {
   "cell_type": "markdown",
   "metadata": {},
   "source": [
    "### Conclusion"
   ]
  },
  {
   "cell_type": "markdown",
   "metadata": {},
   "source": [
    "We can see that among all the marital status variables, surprisingly, those with a widower status are more likely to not be in debt. Individuals with a divorced and married status are also more likely to pay their loans on time. Those under a civil partnership and unmarried marital status, however, seem to have a higher likelihood of not paying of their loan in time. Thus its reasonable to assume that marital status does share a relationship with the timeliness of loan repayment."
   ]
  },
  {
   "cell_type": "markdown",
   "metadata": {},
   "source": [
    "- Is there a relation between income level and repaying a loan on time?"
   ]
  },
  {
   "cell_type": "markdown",
   "metadata": {},
   "source": [
    "Again, let's repeat the same steps as before."
   ]
  },
  {
   "cell_type": "code",
   "execution_count": 71,
   "metadata": {},
   "outputs": [],
   "source": [
    "pivot3 = clean_data.pivot_table(index='income_class',\n",
    "                                values='debt',\n",
    "                                aggfunc='mean',\n",
    "                                margins=True)"
   ]
  },
  {
   "cell_type": "code",
   "execution_count": 117,
   "metadata": {},
   "outputs": [
    {
     "data": {
      "text/html": [
       "<div>\n",
       "<style scoped>\n",
       "    .dataframe tbody tr th:only-of-type {\n",
       "        vertical-align: middle;\n",
       "    }\n",
       "\n",
       "    .dataframe tbody tr th {\n",
       "        vertical-align: top;\n",
       "    }\n",
       "\n",
       "    .dataframe thead th {\n",
       "        text-align: right;\n",
       "    }\n",
       "</style>\n",
       "<table border=\"1\" class=\"dataframe\">\n",
       "  <thead>\n",
       "    <tr style=\"text-align: right;\">\n",
       "      <th></th>\n",
       "      <th>debt</th>\n",
       "    </tr>\n",
       "    <tr>\n",
       "      <th>income_class</th>\n",
       "      <th></th>\n",
       "    </tr>\n",
       "  </thead>\n",
       "  <tbody>\n",
       "    <tr>\n",
       "      <th>middle income</th>\n",
       "      <td>6.12%</td>\n",
       "    </tr>\n",
       "    <tr>\n",
       "      <th>high income</th>\n",
       "      <td>7.14%</td>\n",
       "    </tr>\n",
       "    <tr>\n",
       "      <th>low income</th>\n",
       "      <td>8.12%</td>\n",
       "    </tr>\n",
       "    <tr>\n",
       "      <th>All</th>\n",
       "      <td>8.12%</td>\n",
       "    </tr>\n",
       "    <tr>\n",
       "      <th>highest income</th>\n",
       "      <td>8.33%</td>\n",
       "    </tr>\n",
       "  </tbody>\n",
       "</table>\n",
       "</div>"
      ],
      "text/plain": [
       "                 debt\n",
       "income_class         \n",
       "middle income   6.12%\n",
       "high income     7.14%\n",
       "low income      8.12%\n",
       "All             8.12%\n",
       "highest income  8.33%"
      ]
     },
     "execution_count": 117,
     "metadata": {},
     "output_type": "execute_result"
    }
   ],
   "source": [
    "pivot3.applymap(lambda x: \"{0:.2f}%\".format(x*100)).sort_values('debt')"
   ]
  },
  {
   "cell_type": "code",
   "execution_count": 253,
   "metadata": {},
   "outputs": [
    {
     "data": {
      "image/png": "[encoded data removed]",
      "text/plain": [
       "<Figure size 720x360 with 1 Axes>"
      ]
     },
     "metadata": {
      "needs_background": "light"
     },
     "output_type": "display_data"
    }
   ],
   "source": [
    "ax = pivot3.sort_values('debt').plot(kind='bar',\n",
    "                                     rot=0,\n",
    "                                     alpha=.7,\n",
    "                                     figsize=(10, 5),\n",
    "                                     legend=False)\n",
    "plt.title(\"Debt Ratio Per Income Class\", size=20, loc='left', pad=15)\n",
    "plt.grid(axis=\"y\", alpha=.4)\n",
    "\n",
    "plt.ylim(0, child_pivot.values.max() + .02)\n",
    "ax.spines['left'].set_color('lightgray')\n",
    "ax.spines['bottom'].set_color('lightgray')\n",
    "ax.spines['right'].set_visible(False)\n",
    "ax.spines['top'].set_visible(False)\n",
    "ax.set_xlabel(\"Income Class\", labelpad=15, fontsize=14)\n",
    "ax.set_ylabel(\"Debt Ratio\", labelpad=15, fontsize=14)\n",
    "\n",
    "for label, text in zip(range(0, len(pivot3)),\n",
    "                       pivot3.sort_values('debt').values):\n",
    "    plt.text(label,\n",
    "             text,\n",
    "             \"{:.2%}\".format(float(text)),\n",
    "             ha='center',\n",
    "             va=\"bottom\",\n",
    "             fontweight=\"roman\",\n",
    "             fontsize=13)\n",
    "\n",
    "plt.show()"
   ]
  },
  {
   "cell_type": "markdown",
   "metadata": {},
   "source": [
    "### Conclusion"
   ]
  },
  {
   "cell_type": "markdown",
   "metadata": {},
   "source": [
    "It's surprising to observe that for the most part, the debt ratios for all but the middle income class category remain relatively equal. Based on these mean ratios, it's safe to assume that a weak relationships exist between the timeliness of loan repayment and income class with people in the middle income class paying off their debt at a quicker rate."
   ]
  },
  {
   "cell_type": "markdown",
   "metadata": {},
   "source": [
    "- How do different loan purposes affect on-time repayment of the loan?"
   ]
  },
  {
   "cell_type": "markdown",
   "metadata": {},
   "source": [
    "We'll repeat the pivot steps one more time. "
   ]
  },
  {
   "cell_type": "code",
   "execution_count": 73,
   "metadata": {},
   "outputs": [],
   "source": [
    "pivot4 = clean_data.pivot_table(index='purposes',\n",
    "                                values='debt',\n",
    "                                aggfunc='mean',\n",
    "                                margins=True)"
   ]
  },
  {
   "cell_type": "code",
   "execution_count": 119,
   "metadata": {},
   "outputs": [
    {
     "data": {
      "text/html": [
       "<div>\n",
       "<style scoped>\n",
       "    .dataframe tbody tr th:only-of-type {\n",
       "        vertical-align: middle;\n",
       "    }\n",
       "\n",
       "    .dataframe tbody tr th {\n",
       "        vertical-align: top;\n",
       "    }\n",
       "\n",
       "    .dataframe thead th {\n",
       "        text-align: right;\n",
       "    }\n",
       "</style>\n",
       "<table border=\"1\" class=\"dataframe\">\n",
       "  <thead>\n",
       "    <tr style=\"text-align: right;\">\n",
       "      <th></th>\n",
       "      <th>debt</th>\n",
       "    </tr>\n",
       "    <tr>\n",
       "      <th>purposes</th>\n",
       "      <th></th>\n",
       "    </tr>\n",
       "  </thead>\n",
       "  <tbody>\n",
       "    <tr>\n",
       "      <th>real estate</th>\n",
       "      <td>7.23%</td>\n",
       "    </tr>\n",
       "    <tr>\n",
       "      <th>wedding</th>\n",
       "      <td>8.00%</td>\n",
       "    </tr>\n",
       "    <tr>\n",
       "      <th>All</th>\n",
       "      <td>8.12%</td>\n",
       "    </tr>\n",
       "    <tr>\n",
       "      <th>education</th>\n",
       "      <td>9.22%</td>\n",
       "    </tr>\n",
       "    <tr>\n",
       "      <th>car</th>\n",
       "      <td>9.36%</td>\n",
       "    </tr>\n",
       "  </tbody>\n",
       "</table>\n",
       "</div>"
      ],
      "text/plain": [
       "              debt\n",
       "purposes          \n",
       "real estate  7.23%\n",
       "wedding      8.00%\n",
       "All          8.12%\n",
       "education    9.22%\n",
       "car          9.36%"
      ]
     },
     "execution_count": 119,
     "metadata": {},
     "output_type": "execute_result"
    }
   ],
   "source": [
    "pivot4.applymap(lambda x: \"{0:.2f}%\".format(x*100)).sort_values('debt')"
   ]
  },
  {
   "cell_type": "code",
   "execution_count": 203,
   "metadata": {},
   "outputs": [
    {
     "data": {
      "text/plain": [
       "array([[0.07233373],\n",
       "       [0.08003442],\n",
       "       [0.08115037],\n",
       "       [0.09220035],\n",
       "       [0.09359034]])"
      ]
     },
     "execution_count": 203,
     "metadata": {},
     "output_type": "execute_result"
    }
   ],
   "source": [
    "pivot4.sort_values('debt').values"
   ]
  },
  {
   "cell_type": "code",
   "execution_count": 252,
   "metadata": {},
   "outputs": [
    {
     "data": {
      "image/png": "[encoded data removed]",
      "text/plain": [
       "<Figure size 720x360 with 1 Axes>"
      ]
     },
     "metadata": {
      "needs_background": "light"
     },
     "output_type": "display_data"
    }
   ],
   "source": [
    "ax = pivot4.sort_values('debt').plot(kind='bar',\n",
    "                                     rot=0,\n",
    "                                     alpha=.7,\n",
    "                                     figsize=(10, 5),\n",
    "                                     legend=False)\n",
    "plt.title(\"Debt Ratio Per Loan Purpose\", size=20, loc='left', pad=15)\n",
    "plt.grid(axis=\"y\", alpha=.4)\n",
    "\n",
    "plt.ylim(0, child_pivot.values.max() + .02)\n",
    "ax.spines['left'].set_color('lightgray')\n",
    "ax.spines['bottom'].set_color('lightgray')\n",
    "ax.spines['right'].set_visible(False)\n",
    "ax.spines['top'].set_visible(False)\n",
    "ax.set_xlabel(\"Reason For Taking Out Loan\", labelpad=15, fontsize=14)\n",
    "ax.set_ylabel(\"Debt Ratio\", labelpad=15, fontsize=14)\n",
    "for label, text in zip(range(0, len(pivot4)),\n",
    "                       pivot4.sort_values('debt').values):\n",
    "    plt.text(label,\n",
    "             text,\n",
    "             \"{:.2%}\".format(float(text)),\n",
    "             ha='center',\n",
    "             va=\"bottom\",\n",
    "             fontweight=\"roman\",\n",
    "             fontsize=13)\n",
    "plt.show()"
   ]
  },
  {
   "cell_type": "markdown",
   "metadata": {},
   "source": [
    "### Conclusion"
   ]
  },
  {
   "cell_type": "markdown",
   "metadata": {},
   "source": [
    "From the result, the real estate mean ratio value seems to be the most different from the others but not on a large scale. We can only conclude however that a potential positive relationship may exist between people who take out a loan for real estate purposes and their timeliness of repayment. "
   ]
  },
  {
   "cell_type": "markdown",
   "metadata": {},
   "source": [
    "### Step 4. General conclusion"
   ]
  },
  {
   "cell_type": "markdown",
   "metadata": {},
   "source": [
    ">After a variety of data preprocessing steps, we were able to condense and transform the four main columns of interest (income class, purpose, children, and marital status) into the appropriate types of variables to be able to answer the business questions. From our analysis, we were able to point out marital status, income class, and loan purpose as having an existing relationship between the timeliness of loan repayment.\n",
    "\n",
    ">Individuals taking out loan for real estate purposes on average tend to pay their loan in a timely manner in comparison to those taking out their loans for wedding, car purchasing, and education reasons. In addition, widowers are more likely than any other type of marital status group (married, unmarried, divorced, civil partnership) to pay back their loans on time. Moreover, individuals who identified as being unmarried or in a civil partnership had a higher likelihood of repaying their loan on time in comparison to the other marital status. Special consideration should be given to the aforementioned variables. Lastly, individuals in the middle income class payed off their loans at a higher rate in comparison to the other income classes (high, highest, and low)."
   ]
  },
  {
   "cell_type": "code",
   "execution_count": null,
   "metadata": {},
   "outputs": [],
   "source": []
  }
 ],
 "metadata": {
  "kernelspec": {
   "display_name": "Python 3",
   "language": "python",
   "name": "python3"
  },
  "language_info": {
   "codemirror_mode": {
    "name": "ipython",
    "version": 3
   },
   "file_extension": ".py",
   "mimetype": "text/x-python",
   "name": "python",
   "nbconvert_exporter": "python",
   "pygments_lexer": "ipython3",
   "version": "3.7.4"
  },
  "varInspector": {
   "cols": {
    "lenName": 16,
    "lenType": 16,
    "lenVar": 40
   },
   "kernels_config": {
    "python": {
     "delete_cmd_postfix": "",
     "delete_cmd_prefix": "del ",
     "library": "var_list.py",
     "varRefreshCmd": "print(var_dic_list())"
    },
    "r": {
     "delete_cmd_postfix": ") ",
     "delete_cmd_prefix": "rm(",
     "library": "var_list.r",
     "varRefreshCmd": "cat(var_dic_list()) "
    }
   },
   "types_to_exclude": [
    "module",
    "function",
    "builtin_function_or_method",
    "instance",
    "_Feature"
   ],
   "window_display": false
  }
 },
 "nbformat": 4,
 "nbformat_minor": 2
}
